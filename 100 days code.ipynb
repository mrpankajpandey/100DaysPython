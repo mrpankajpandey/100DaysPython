{
 "cells": [
  {
   "cell_type": "markdown",
   "id": "3a13a617",
   "metadata": {},
   "source": [
    "## Day1 - What is Programming and Python"
   ]
  },
  {
   "cell_type": "markdown",
   "id": "4bd66e31",
   "metadata": {},
   "source": [
    "## What is programming"
   ]
  },
  {
   "cell_type": "markdown",
   "id": "67f222ab",
   "metadata": {},
   "source": [
    "Programming is a way for us to tell computers what to do. Computer is a very dumb machine and it only does what we tell it to do. Hence we learn programming and tell computers to do what we are very slow at - computation. If I ask you to calculate 5+6, you will immediately say 11. How about 23453453 X 56456?\n",
    "\n",
    "You will start searching for a calculator or jump to a new tab to calculate the same. This 100 days of code series will help you learn python from starting to the end. We will start from 0 and by the time we end this course, I promise you will be a Job ready Python developer!"
   ]
  },
  {
   "cell_type": "markdown",
   "id": "3ee94fd0",
   "metadata": {},
   "source": [
    "## What Is Python"
   ]
  },
  {
   "cell_type": "markdown",
   "id": "30529971",
   "metadata": {},
   "source": [
    "(i). Python is a dynamically typed, general purpose programming language that supports an object-oriented programming approach as well as a functional programming approach.\n",
    "\n",
    "(ii). Python is an interpreted and a high-level programming language.\n",
    "\n",
    "(iii). It was created by Guido Van Rossum in 1989."
   ]
  },
  {
   "cell_type": "code",
   "execution_count": 1,
   "id": "a0d2068a",
   "metadata": {},
   "outputs": [
    {
     "name": "stdout",
     "output_type": "stream",
     "text": [
      "hello world , Let's get started 100days challenge\n"
     ]
    }
   ],
   "source": [
    "print(\"hello world , Let's get started 100days challenge\")"
   ]
  },
  {
   "cell_type": "markdown",
   "id": "d40c25d3",
   "metadata": {},
   "source": [
    "## Day 2 python applications"
   ]
  },
  {
   "cell_type": "markdown",
   "id": "dc392f8f",
   "metadata": {},
   "source": [
    "1. jarvis  , 2. webApp "
   ]
  },
  {
   "cell_type": "markdown",
   "id": "fd55be63",
   "metadata": {},
   "source": [
    "## Day 3 module and Pip"
   ]
  },
  {
   "cell_type": "code",
   "execution_count": 2,
   "id": "985e4dad",
   "metadata": {},
   "outputs": [
    {
     "name": "stdout",
     "output_type": "stream",
     "text": [
      "Hi\n"
     ]
    }
   ],
   "source": [
    "import pandas  # This is an example of external module\n",
    "import hashlib  # This is an example of built in module\n",
    "\n",
    "print(\"Hi\")\n",
    "\n",
    "# Dont worry about how to use these modules just yet!\n",
    "pandas.read_csv(\"ipl.csv\")\n",
    "m = hashlib.sha256()\n"
   ]
  },
  {
   "cell_type": "markdown",
   "id": "8ece9a2d",
   "metadata": {},
   "source": [
    "## Day 4 Our First Program "
   ]
  },
  {
   "cell_type": "markdown",
   "id": "79aec55f",
   "metadata": {},
   "source": [
    "Today we will write our first ever python program from scratch. It will consist of a bunch of print statements. print can be used to print something on the console in python"
   ]
  },
  {
   "cell_type": "code",
   "execution_count": 3,
   "id": "21b749b7",
   "metadata": {},
   "outputs": [
    {
     "name": "stdout",
     "output_type": "stream",
     "text": [
      "Hello World 7\n",
      "5\n",
      "Bye\n",
      "221\n"
     ]
    }
   ],
   "source": [
    "print(\"Hello World\", 7)\n",
    "print(5)\n",
    "print(\"Bye\")\n",
    "print(17*13)"
   ]
  },
  {
   "cell_type": "markdown",
   "id": "2a6875ac",
   "metadata": {},
   "source": [
    "## Day 5 Comments, Escape sequence & Print in Python"
   ]
  },
  {
   "cell_type": "markdown",
   "id": "44fed4ff",
   "metadata": {},
   "source": [
    "Sigle Line comments "
   ]
  },
  {
   "cell_type": "code",
   "execution_count": 4,
   "id": "425a4c2f",
   "metadata": {},
   "outputs": [
    {
     "name": "stdout",
     "output_type": "stream",
     "text": [
      "This is a print statement.\n"
     ]
    }
   ],
   "source": [
    "#This is a 'Single-Line Comment'\n",
    "print(\"This is a print statement.\")"
   ]
  },
  {
   "cell_type": "code",
   "execution_count": 5,
   "id": "cdbe3122",
   "metadata": {},
   "outputs": [
    {
     "name": "stdout",
     "output_type": "stream",
     "text": [
      "Hello World !!!\n"
     ]
    }
   ],
   "source": [
    "print(\"Hello World !!!\") #Printing Hello World"
   ]
  },
  {
   "cell_type": "markdown",
   "id": "39fc9a8a",
   "metadata": {},
   "source": [
    "Multi-Line comments"
   ]
  },
  {
   "cell_type": "code",
   "execution_count": 6,
   "id": "c9640f5e",
   "metadata": {},
   "outputs": [
    {
     "name": "stdout",
     "output_type": "stream",
     "text": [
      "p is greater than 5.\n"
     ]
    }
   ],
   "source": [
    "#It will execute a block of code if a specified condition is true.\n",
    "#If the condition is false then it will execute another block of code.\n",
    "p = 7\n",
    "if (p > 5):\n",
    "    print(\"p is greater than 5.\")\n",
    "else:\n",
    "    print(\"p is not greater than 5.\")"
   ]
  },
  {
   "cell_type": "code",
   "execution_count": 7,
   "id": "fafffba6",
   "metadata": {},
   "outputs": [
    {
     "name": "stdout",
     "output_type": "stream",
     "text": [
      "p is greater than 5.\n"
     ]
    }
   ],
   "source": [
    "\"\"\"This is an if-else statement.\n",
    "It will execute a block of code if a specified condition is true.\n",
    "If the condition is false then it will execute another block of code.\"\"\"\n",
    "p = 7\n",
    "if (p > 5):\n",
    "    print(\"p is greater than 5.\")\n",
    "else:\n",
    "    print(\"p is not greater than 5.\")"
   ]
  },
  {
   "cell_type": "markdown",
   "id": "85ce1cb3",
   "metadata": {},
   "source": [
    "## Escape Sequence Characters"
   ]
  },
  {
   "cell_type": "code",
   "execution_count": 8,
   "id": "22417961",
   "metadata": {},
   "outputs": [
    {
     "name": "stdout",
     "output_type": "stream",
     "text": [
      "This will \" execute\n"
     ]
    }
   ],
   "source": [
    "# print(\"This doesnt \"execute\")\n",
    "print(\"This will \\\" execute\")"
   ]
  },
  {
   "cell_type": "code",
   "execution_count": 9,
   "id": "afaaffcb",
   "metadata": {},
   "outputs": [
    {
     "name": "stdout",
     "output_type": "stream",
     "text": [
      "Hey I am good boy \n",
      " and this viewer also good boy\n",
      "hey I am \"good boy \"\n",
      " and you are also  good boy\n",
      "hey~6009\n"
     ]
    }
   ],
   "source": [
    "print(\"Hey I am good boy \\n and this viewer also good boy\")\n",
    "# author : pankaj \n",
    "# time : 08 pm\n",
    "# coures : 100days of code \n",
    "\n",
    "''' pankaj pandey this is multiline comment''' # mulitiline comment\n",
    "# Escape sequence character\n",
    "print(\"hey I am \\\"good boy \\\"\\n and you are also  good boy\")\n",
    "print(\"hey\",6, sep=\"~\", end=\"009\\n\")"
   ]
  },
  {
   "cell_type": "markdown",
   "id": "62dc890d",
   "metadata": {},
   "source": [
    "## Day 6 Variables and Data Types"
   ]
  },
  {
   "cell_type": "markdown",
   "id": "16338942",
   "metadata": {},
   "source": [
    "Variables : - Variable is like a container that holds data. Very similar to how our containers in kitchen holds sugar, salt etc Creating a variable is like creating a placeholder in memory and assigning it some value. In Python its as easy as writing"
   ]
  },
  {
   "cell_type": "code",
   "execution_count": 10,
   "id": "f6816c26",
   "metadata": {},
   "outputs": [
    {
     "name": "stdout",
     "output_type": "stream",
     "text": [
      "<class 'int'>\n",
      "<class 'str'>\n"
     ]
    }
   ],
   "source": [
    "a = 1\n",
    "b = True\n",
    "c = \"Harry\"\n",
    "d = None\n",
    "a = 1\n",
    "print(type(a))\n",
    "b = \"1\"\n",
    "print(type(b))"
   ]
  },
  {
   "cell_type": "markdown",
   "id": "27c90a03",
   "metadata": {},
   "source": [
    "#  Sequenced data: list, tuple"
   ]
  },
  {
   "cell_type": "code",
   "execution_count": 11,
   "id": "1cf6cb51",
   "metadata": {},
   "outputs": [
    {
     "name": "stdout",
     "output_type": "stream",
     "text": [
      "[8, 2.3, [-4, 5], ['apple', 'banana']]\n"
     ]
    }
   ],
   "source": [
    "list1 = [8, 2.3, [-4, 5], [\"apple\", \"banana\"]]\n",
    "print(list1)"
   ]
  },
  {
   "cell_type": "code",
   "execution_count": 12,
   "id": "78250155",
   "metadata": {},
   "outputs": [
    {
     "name": "stdout",
     "output_type": "stream",
     "text": [
      "(('parrot', 'sparrow'), ('Lion', 'Tiger'))\n"
     ]
    }
   ],
   "source": [
    "tuple1 = ((\"parrot\", \"sparrow\"), (\"Lion\", \"Tiger\"))\n",
    "print(tuple1)"
   ]
  },
  {
   "cell_type": "markdown",
   "id": "6b391d7f",
   "metadata": {},
   "source": [
    " ## . Mapped data: dict"
   ]
  },
  {
   "cell_type": "code",
   "execution_count": 13,
   "id": "d5fd8388",
   "metadata": {},
   "outputs": [
    {
     "name": "stdout",
     "output_type": "stream",
     "text": [
      "{'name': 'Sakshi', 'age': 20, 'canVote': True}\n"
     ]
    }
   ],
   "source": [
    "dict1 = {\"name\":\"Sakshi\", \"age\":20, \"canVote\":True}\n",
    "print(dict1)"
   ]
  },
  {
   "cell_type": "markdown",
   "id": "bd0d4de6",
   "metadata": {},
   "source": [
    "## Day 7 Exercise create calculater"
   ]
  },
  {
   "cell_type": "code",
   "execution_count": 14,
   "id": "1381dd79",
   "metadata": {},
   "outputs": [
    {
     "name": "stdout",
     "output_type": "stream",
     "text": [
      "Addition of 15 and 7 is 22\n",
      "Subtraction of 15 and 7 is 8\n",
      "Multiplication of 15 and 7 is 105\n",
      "Division of 15 and 7 is 2.142857142857143\n",
      "Modulus of 15 and 7 is 1\n",
      "Floor Division of 15 and 7 is 2\n"
     ]
    }
   ],
   "source": [
    "n = 15\n",
    "m = 7\n",
    "ans1 = n+m\n",
    "print(\"Addition of\",n,\"and\",m,\"is\", ans1)\n",
    "ans2 = n-m\n",
    "print(\"Subtraction of\",n,\"and\",m,\"is\", ans2)\n",
    "ans3 = n*m\n",
    "print(\"Multiplication of\",n,\"and\",m,\"is\", ans3)\n",
    "ans4 = n/m\n",
    "print(\"Division of\",n,\"and\",m,\"is\", ans4)\n",
    "ans5 = n%m\n",
    "print(\"Modulus of\",n,\"and\",m,\"is\", ans5)\n",
    "ans6 = n//m\n",
    "print(\"Floor Division of\",n,\"and\",m,\"is\", ans6)"
   ]
  },
  {
   "cell_type": "markdown",
   "id": "eaa33aa0",
   "metadata": {},
   "source": [
    "## Day 8 "
   ]
  },
  {
   "cell_type": "code",
   "execution_count": 15,
   "id": "c6beba32",
   "metadata": {},
   "outputs": [
    {
     "name": "stdout",
     "output_type": "stream",
     "text": [
      "The value of 50 + 3 is:  53\n",
      "The value of 50 - 3 is:  47\n",
      "The value of 50 * 3 is:  150\n",
      "The value of 50 / 3 is:  16.666666666666668\n"
     ]
    }
   ],
   "source": [
    "a = 50\n",
    "b = 3\n",
    "\n",
    "print(\"The value of\", a, \"+\", 3, \"is: \", a + b)\n",
    "print(\"The value of\", a, \"-\", 3, \"is: \", a - b)\n",
    "print(\"The value of\", a, \"*\", 3, \"is: \", a * b)\n",
    "print(\"The value of\", a, \"/\", 3, \"is: \", a / b)\n"
   ]
  },
  {
   "cell_type": "markdown",
   "id": "08596e04",
   "metadata": {},
   "source": [
    "## Day 9 Typecasting in Python"
   ]
  },
  {
   "cell_type": "markdown",
   "id": "1dba2fe3",
   "metadata": {},
   "source": [
    "The conversion of one data type into the other data type is known as type casting in python or type conversion in python.\n",
    "\n",
    "Python supports a wide variety of functions or methods like: int(), float(), str(), ord(), hex(), oct(), tuple(), set(), list(), dict(), etc. for the type casting in python."
   ]
  },
  {
   "cell_type": "markdown",
   "id": "286b5fbb",
   "metadata": {},
   "source": [
    "## Two Types Typecasting: "
   ]
  },
  {
   "cell_type": "markdown",
   "id": "c98e9fe9",
   "metadata": {},
   "source": [
    "## Explicit typecasting:"
   ]
  },
  {
   "cell_type": "markdown",
   "id": "4af8d650",
   "metadata": {},
   "source": [
    "The conversion of one data type into another data type, done via developer or programmer's intervention or manually as per the requirement, is known as explicit type conversion.\n",
    "\n",
    "It can be achieved with the help of Python’s built-in type conversion functions such as int(), float(), hex(), oct(), str(), etc ."
   ]
  },
  {
   "cell_type": "code",
   "execution_count": 16,
   "id": "46cda8f3",
   "metadata": {},
   "outputs": [
    {
     "name": "stdout",
     "output_type": "stream",
     "text": [
      "The Sum of both the numbers is:  22\n"
     ]
    }
   ],
   "source": [
    "string = \"15\"\n",
    "number = 7\n",
    "string_number = int(string) #throws an error if the string is not a valid integer\n",
    "sum= number + string_number\n",
    "print(\"The Sum of both the numbers is: \", sum)"
   ]
  },
  {
   "cell_type": "markdown",
   "id": "c89ad52f",
   "metadata": {},
   "source": [
    "## Implicit type casting:"
   ]
  },
  {
   "cell_type": "markdown",
   "id": "de56049e",
   "metadata": {},
   "source": [
    "Data types in Python do not have the same level i.e. ordering of data types is not the same in Python. Some of the data types have higher-order, and some have lower order. While performing any operations on variables with different data types in Python, one of the variable's data types will be changed to the higher data type. According to the level, one data type is converted into other by the Python interpreter itself (automatically). This is called, implicit typecasting in python.\n",
    "\n",
    "Python converts a smaller data type to a higher data type to prevent data loss."
   ]
  },
  {
   "cell_type": "code",
   "execution_count": 17,
   "id": "75a62542",
   "metadata": {},
   "outputs": [
    {
     "name": "stdout",
     "output_type": "stream",
     "text": [
      "<class 'int'>\n",
      "<class 'float'>\n",
      "10.0\n",
      "<class 'float'>\n"
     ]
    }
   ],
   "source": [
    "# Python automatically converts\n",
    "# a to int\n",
    "a = 7\n",
    "print(type(a))\n",
    " \n",
    "# Python automatically converts b to float\n",
    "b = 3.0\n",
    "print(type(b))\n",
    " \n",
    "# Python automatically converts c to float as it is a float addition\n",
    "c = a + b\n",
    "print(c)\n",
    "print(type(c))"
   ]
  },
  {
   "cell_type": "markdown",
   "id": "b6b9e6a6",
   "metadata": {},
   "source": [
    "## Day 10 - Taking User Input"
   ]
  },
  {
   "cell_type": "code",
   "execution_count": 18,
   "id": "f04d2887",
   "metadata": {},
   "outputs": [],
   "source": [
    "# variable=input()"
   ]
  },
  {
   "cell_type": "code",
   "execution_count": null,
   "id": "7f34d7f3",
   "metadata": {},
   "outputs": [],
   "source": []
  },
  {
   "cell_type": "code",
   "execution_count": 19,
   "id": "5d64ac26",
   "metadata": {},
   "outputs": [],
   "source": [
    "# variable=int(input())\n",
    "# variable=float(input())"
   ]
  },
  {
   "cell_type": "code",
   "execution_count": null,
   "id": "d99381fc",
   "metadata": {},
   "outputs": [],
   "source": []
  },
  {
   "cell_type": "code",
   "execution_count": 20,
   "id": "6026a2f2",
   "metadata": {},
   "outputs": [],
   "source": [
    "# a=input(\"Enter the name: \")\n",
    "# print(a)"
   ]
  },
  {
   "cell_type": "code",
   "execution_count": null,
   "id": "469ebe08",
   "metadata": {},
   "outputs": [],
   "source": []
  },
  {
   "cell_type": "markdown",
   "id": "898dcb60",
   "metadata": {},
   "source": [
    "## Day 11 Strings "
   ]
  },
  {
   "cell_type": "markdown",
   "id": "ff587589",
   "metadata": {},
   "source": [
    "In python, anything that you enclose between single or double quotation marks is considered a string. A string is essentially a sequence or array of textual data. Strings are used when working with Unicode characters."
   ]
  },
  {
   "cell_type": "code",
   "execution_count": 37,
   "id": "36608380",
   "metadata": {},
   "outputs": [
    {
     "name": "stdout",
     "output_type": "stream",
     "text": [
      "Hello, Harry\n"
     ]
    }
   ],
   "source": [
    "name = \"Harry\"\n",
    "print(\"Hello, \" + name)"
   ]
  },
  {
   "cell_type": "code",
   "execution_count": 38,
   "id": "8a8ecb98",
   "metadata": {},
   "outputs": [
    {
     "name": "stdout",
     "output_type": "stream",
     "text": [
      "He said, \"I want to eat an apple\".\n"
     ]
    }
   ],
   "source": [
    "print('He said, \"I want to eat an apple\".')"
   ]
  },
  {
   "cell_type": "code",
   "execution_count": 39,
   "id": "c91c5cbd",
   "metadata": {},
   "outputs": [
    {
     "name": "stdout",
     "output_type": "stream",
     "text": [
      "Lorem ipsum dolor sit amet,\n",
      "consectetur adipiscing elit,\n",
      "sed do eiusmod tempor incididunt\n",
      "ut labore et dolore magna aliqua.\n"
     ]
    }
   ],
   "source": [
    "a = \"\"\"Lorem ipsum dolor sit amet,\n",
    "consectetur adipiscing elit,\n",
    "sed do eiusmod tempor incididunt\n",
    "ut labore et dolore magna aliqua.\"\"\"\n",
    "print(a)"
   ]
  },
  {
   "cell_type": "markdown",
   "id": "721b6f7a",
   "metadata": {},
   "source": [
    "## Accessing Characters of a String"
   ]
  },
  {
   "cell_type": "code",
   "execution_count": 40,
   "id": "d9b60321",
   "metadata": {},
   "outputs": [
    {
     "name": "stdout",
     "output_type": "stream",
     "text": [
      "H\n",
      "a\n"
     ]
    }
   ],
   "source": [
    "print(name[0])\n",
    "print(name[1])"
   ]
  },
  {
   "cell_type": "code",
   "execution_count": 41,
   "id": "2e176e90",
   "metadata": {},
   "outputs": [
    {
     "name": "stdout",
     "output_type": "stream",
     "text": [
      "H\n",
      "a\n",
      "r\n",
      "r\n",
      "y\n"
     ]
    }
   ],
   "source": [
    "for character in name:\n",
    "    print(character)"
   ]
  },
  {
   "cell_type": "markdown",
   "id": "2388233e",
   "metadata": {},
   "source": [
    "## Day 12 String Slicing "
   ]
  },
  {
   "cell_type": "markdown",
   "id": "85bf06aa",
   "metadata": {},
   "source": [
    "## Length of string"
   ]
  },
  {
   "cell_type": "markdown",
   "id": "0c231dd1",
   "metadata": {},
   "source": [
    "We can find the length of a string using len() function."
   ]
  },
  {
   "cell_type": "code",
   "execution_count": 42,
   "id": "3c0d9320",
   "metadata": {},
   "outputs": [
    {
     "name": "stdout",
     "output_type": "stream",
     "text": [
      "Mango is a 5 letter word.\n"
     ]
    }
   ],
   "source": [
    "fruit = \"Mango\"\n",
    "len1 = len(fruit)\n",
    "print(\"Mango is a\", len1, \"letter word.\")"
   ]
  },
  {
   "cell_type": "code",
   "execution_count": 43,
   "id": "b3c9e119",
   "metadata": {},
   "outputs": [
    {
     "name": "stdout",
     "output_type": "stream",
     "text": [
      "Apple\n",
      "i\n"
     ]
    }
   ],
   "source": [
    "pie = \"ApplePie\"\n",
    "print(pie[:5])\n",
    "print(pie[6])\t#returns character at specified index"
   ]
  },
  {
   "cell_type": "code",
   "execution_count": 44,
   "id": "a6ab49a2",
   "metadata": {},
   "outputs": [
    {
     "name": "stdout",
     "output_type": "stream",
     "text": [
      "Apple\n",
      "Pie\n",
      "pleP\n",
      "ApplePie\n"
     ]
    }
   ],
   "source": [
    "pie = \"ApplePie\"\n",
    "print(pie[:5])      #Slicing from Start\n",
    "print(pie[5:])      #Slicing till End\n",
    "print(pie[2:6])     #Slicing in between\n",
    "print(pie[-8:])     #Slicing using negative index"
   ]
  },
  {
   "cell_type": "code",
   "execution_count": 45,
   "id": "7d6bd4aa",
   "metadata": {},
   "outputs": [
    {
     "name": "stdout",
     "output_type": "stream",
     "text": [
      "A\n",
      "B\n",
      "C\n",
      "D\n",
      "E\n"
     ]
    }
   ],
   "source": [
    "alphabets = \"ABCDE\"\n",
    "for i in alphabets:\n",
    "    print(i)"
   ]
  },
  {
   "cell_type": "code",
   "execution_count": 48,
   "id": "38ee71e7",
   "metadata": {},
   "outputs": [
    {
     "name": "stdout",
     "output_type": "stream",
     "text": [
      "5\n",
      "Mang\n",
      "ang\n",
      "Mango\n",
      "Ma\n",
      "Ma\n",
      "\n",
      "ng\n",
      "ar\n"
     ]
    }
   ],
   "source": [
    "fruit = \"Mango\"\n",
    "mangoLen = len(fruit)\n",
    "print(mangoLen)\n",
    "print(fruit[0:4]) # including 0 but not 4\n",
    "print(fruit[1:4]) # including 1 but not 4\n",
    "print(fruit[:5])\n",
    "print(fruit[0:-3])\n",
    "print(fruit[:len(fruit)-3])\n",
    "print(fruit[-1:len(fruit) - 3])\n",
    "print(fruit[-3:-1])\n",
    "\n",
    "# Quick Quiz:\n",
    "nm = \"Harry\"\n",
    "print(nm[-4:-2])\n"
   ]
  },
  {
   "cell_type": "code",
   "execution_count": null,
   "id": "19e88fe2",
   "metadata": {},
   "outputs": [],
   "source": []
  },
  {
   "cell_type": "code",
   "execution_count": null,
   "id": "9c0d13f5",
   "metadata": {},
   "outputs": [],
   "source": []
  },
  {
   "cell_type": "markdown",
   "id": "854835c2",
   "metadata": {},
   "source": [
    "# Day 13"
   ]
  },
  {
   "cell_type": "markdown",
   "id": "5f1aadfd",
   "metadata": {},
   "source": [
    "## String Methods"
   ]
  },
  {
   "cell_type": "markdown",
   "id": "8607e72d",
   "metadata": {},
   "source": [
    "# 1. upper()"
   ]
  },
  {
   "cell_type": "markdown",
   "id": "fcb2530f",
   "metadata": {},
   "source": [
    "The upper() method converts a string to upper case."
   ]
  },
  {
   "cell_type": "code",
   "execution_count": 21,
   "id": "41b8275d",
   "metadata": {},
   "outputs": [
    {
     "name": "stdout",
     "output_type": "stream",
     "text": [
      "ABCDEFGHIJ\n"
     ]
    }
   ],
   "source": [
    "str1 = \"AbcDEfghIJ\"\n",
    "print(str1.upper())"
   ]
  },
  {
   "cell_type": "markdown",
   "id": "d2ab2546",
   "metadata": {},
   "source": [
    "# 2. lower()"
   ]
  },
  {
   "cell_type": "markdown",
   "id": "87a42f6d",
   "metadata": {},
   "source": [
    "The lower() method converts a string to lower case."
   ]
  },
  {
   "cell_type": "code",
   "execution_count": 22,
   "id": "92166be8",
   "metadata": {},
   "outputs": [
    {
     "name": "stdout",
     "output_type": "stream",
     "text": [
      "abcdefghij\n"
     ]
    }
   ],
   "source": [
    "str1 = \"AbcDEfghIJ\"\n",
    "print(str1.lower())"
   ]
  },
  {
   "cell_type": "markdown",
   "id": "c6242813",
   "metadata": {},
   "source": [
    "# 3. strip()"
   ]
  },
  {
   "cell_type": "markdown",
   "id": "daa91306",
   "metadata": {},
   "source": [
    "The strip() method removes any white spaces before and after the string."
   ]
  },
  {
   "cell_type": "code",
   "execution_count": 23,
   "id": "d100241e",
   "metadata": {},
   "outputs": [
    {
     "name": "stdout",
     "output_type": "stream",
     "text": [
      "Silver Spoon\n"
     ]
    }
   ],
   "source": [
    "str2 = \"Silver Spoon \"\n",
    "print(str2.strip())"
   ]
  },
  {
   "cell_type": "markdown",
   "id": "5d3abc37",
   "metadata": {},
   "source": [
    "# 4. rstrip()"
   ]
  },
  {
   "cell_type": "markdown",
   "id": "f98d55bc",
   "metadata": {},
   "source": [
    "the rstrip() removes any trailing characters."
   ]
  },
  {
   "cell_type": "code",
   "execution_count": 24,
   "id": "3ee546ff",
   "metadata": {},
   "outputs": [
    {
     "name": "stdout",
     "output_type": "stream",
     "text": [
      "Hello \n"
     ]
    }
   ],
   "source": [
    "str3 = \"Hello !!!\"\n",
    "print(str3.rstrip(\"!\"))"
   ]
  },
  {
   "cell_type": "markdown",
   "id": "2403c683",
   "metadata": {},
   "source": [
    "# 5. replace() :"
   ]
  },
  {
   "cell_type": "markdown",
   "id": "9642c1ea",
   "metadata": {},
   "source": [
    "The replace() method replaces all occurences of a string with another string."
   ]
  },
  {
   "cell_type": "code",
   "execution_count": 25,
   "id": "c2cd04c8",
   "metadata": {},
   "outputs": [
    {
     "name": "stdout",
     "output_type": "stream",
     "text": [
      "Silver Moon\n"
     ]
    }
   ],
   "source": [
    "str2 = \"Silver Spoon\"\n",
    "print(str2.replace(\"Sp\", \"M\"))"
   ]
  },
  {
   "cell_type": "markdown",
   "id": "e75c0933",
   "metadata": {},
   "source": [
    "# 6. split() :"
   ]
  },
  {
   "cell_type": "markdown",
   "id": "b2973254",
   "metadata": {},
   "source": [
    "The split() method splits the given string at the specified instance and returns the separated strings as list items."
   ]
  },
  {
   "cell_type": "code",
   "execution_count": 26,
   "id": "1461ca24",
   "metadata": {},
   "outputs": [
    {
     "name": "stdout",
     "output_type": "stream",
     "text": [
      "['Silver', 'Spoon']\n"
     ]
    }
   ],
   "source": [
    "str2 = \"Silver Spoon\"\n",
    "print(str2.split(\" \"))      #Splits the string at the whitespace \" \"."
   ]
  },
  {
   "cell_type": "markdown",
   "id": "92153d99",
   "metadata": {},
   "source": [
    "## 7. capitalize() :"
   ]
  },
  {
   "cell_type": "markdown",
   "id": "eeb43dd5",
   "metadata": {},
   "source": [
    "The capitalize() method turns only the first character of the string to uppercase and the rest other characters of the string are turned to lowercase. The string has no effect if the first character is already uppercase.\n"
   ]
  },
  {
   "cell_type": "code",
   "execution_count": 27,
   "id": "d652976e",
   "metadata": {},
   "outputs": [
    {
     "name": "stdout",
     "output_type": "stream",
     "text": [
      "Hello\n",
      "Hello world\n"
     ]
    }
   ],
   "source": [
    "str1 = \"hello\"\n",
    "capStr1 = str1.capitalize()\n",
    "print(capStr1)\n",
    "str2 = \"hello WorlD\"\n",
    "capStr2 = str2.capitalize()\n",
    "print(capStr2)"
   ]
  },
  {
   "cell_type": "markdown",
   "id": "013aa7c0",
   "metadata": {},
   "source": [
    "## 8. center()"
   ]
  },
  {
   "cell_type": "markdown",
   "id": "a5216fb7",
   "metadata": {},
   "source": [
    "The center() method aligns the string to the center as per the parameters given by the user."
   ]
  },
  {
   "cell_type": "code",
   "execution_count": 28,
   "id": "1fc1f754",
   "metadata": {},
   "outputs": [
    {
     "name": "stdout",
     "output_type": "stream",
     "text": [
      "            Welcome to the Console!!!             \n"
     ]
    }
   ],
   "source": [
    "str1 = \"Welcome to the Console!!!\"\n",
    "print(str1.center(50))"
   ]
  },
  {
   "cell_type": "markdown",
   "id": "3e93a5ff",
   "metadata": {},
   "source": [
    "We can also provide padding character. It will fill the rest of the fill characters provided by the user."
   ]
  },
  {
   "cell_type": "code",
   "execution_count": 29,
   "id": "310a5b18",
   "metadata": {},
   "outputs": [
    {
     "name": "stdout",
     "output_type": "stream",
     "text": [
      "............Welcome to the Console!!!.............\n"
     ]
    }
   ],
   "source": [
    "str1 = \"Welcome to the Console!!!\"\n",
    "print(str1.center(50, \".\"))"
   ]
  },
  {
   "cell_type": "markdown",
   "id": "06ab4535",
   "metadata": {},
   "source": [
    "## 9. count()"
   ]
  },
  {
   "cell_type": "markdown",
   "id": "b9a51a1a",
   "metadata": {},
   "source": [
    "The count() method returns the number of times the given value has occurred within the given string."
   ]
  },
  {
   "cell_type": "code",
   "execution_count": 30,
   "id": "853b2545",
   "metadata": {},
   "outputs": [
    {
     "name": "stdout",
     "output_type": "stream",
     "text": [
      "4\n"
     ]
    }
   ],
   "source": [
    "str2 = \"Abracadabra\"\n",
    "countStr = str2.count(\"a\")\n",
    "print(countStr)"
   ]
  },
  {
   "cell_type": "markdown",
   "id": "a2cdf9ba",
   "metadata": {},
   "source": [
    "## 10. endswith()"
   ]
  },
  {
   "cell_type": "markdown",
   "id": "5e2c20c8",
   "metadata": {},
   "source": [
    "The endswith() method checks if the string ends with a given value. If yes then return True, else return False."
   ]
  },
  {
   "cell_type": "code",
   "execution_count": 31,
   "id": "9afbd21a",
   "metadata": {},
   "outputs": [
    {
     "name": "stdout",
     "output_type": "stream",
     "text": [
      "True\n"
     ]
    }
   ],
   "source": [
    "str1 = \"Welcome to the Console !!!\"\n",
    "print(str1.endswith(\"!!!\"))"
   ]
  },
  {
   "cell_type": "markdown",
   "id": "dcc8b6d9",
   "metadata": {},
   "source": [
    "We can even also check for a value in-between the string by providing start and end index positions."
   ]
  },
  {
   "cell_type": "code",
   "execution_count": 32,
   "id": "a47e36cb",
   "metadata": {},
   "outputs": [
    {
     "name": "stdout",
     "output_type": "stream",
     "text": [
      "True\n"
     ]
    }
   ],
   "source": [
    "str1 = \"Welcome to the Console !!!\"\n",
    "print(str1.endswith(\"to\", 4, 10))"
   ]
  },
  {
   "cell_type": "markdown",
   "id": "6cf365d7",
   "metadata": {},
   "source": [
    "## 11. find()"
   ]
  },
  {
   "cell_type": "markdown",
   "id": "07375a63",
   "metadata": {},
   "source": [
    "The find() method searches for the first occurrence of the given value and returns the index where it is present. If given value is absent from the string then return -1."
   ]
  },
  {
   "cell_type": "code",
   "execution_count": 33,
   "id": "6bc23525",
   "metadata": {},
   "outputs": [
    {
     "name": "stdout",
     "output_type": "stream",
     "text": [
      "10\n"
     ]
    }
   ],
   "source": [
    "str1 = \"He's name is Dan. He is an honest man.\"\n",
    "print(str1.find(\"is\"))"
   ]
  },
  {
   "cell_type": "markdown",
   "id": "64cc71af",
   "metadata": {},
   "source": [
    "As we can see, this method is somewhat similar to the index() method. The major difference being that index() raises an exception if value is absent whereas find() does not."
   ]
  },
  {
   "cell_type": "code",
   "execution_count": 34,
   "id": "a8191941",
   "metadata": {},
   "outputs": [
    {
     "name": "stdout",
     "output_type": "stream",
     "text": [
      "-1\n"
     ]
    }
   ],
   "source": [
    "str1 = \"He's name is Dan. He is an honest man.\"\n",
    "print(str1.find(\"Daniel\"))"
   ]
  },
  {
   "cell_type": "markdown",
   "id": "93c2e8d2",
   "metadata": {},
   "source": [
    "## 12. index()"
   ]
  },
  {
   "cell_type": "markdown",
   "id": "e864ced6",
   "metadata": {},
   "source": [
    "The index() method searches for the first occurrence of the given value and returns the index where it is present. If given value is absent from the string then raise an exception"
   ]
  },
  {
   "cell_type": "code",
   "execution_count": 35,
   "id": "03d4c52e",
   "metadata": {},
   "outputs": [
    {
     "name": "stdout",
     "output_type": "stream",
     "text": [
      "13\n"
     ]
    }
   ],
   "source": [
    "str1 = \"He's name is Dan. Dan is an honest man.\"\n",
    "print(str1.index(\"Dan\"))"
   ]
  },
  {
   "cell_type": "markdown",
   "id": "53281c45",
   "metadata": {},
   "source": [
    "As we can see, this method is somewhat similar to the find() method. The major difference being that index() raises an exception if value is absent whereas find() does not."
   ]
  },
  {
   "cell_type": "code",
   "execution_count": 36,
   "id": "33f2d472",
   "metadata": {},
   "outputs": [
    {
     "ename": "ValueError",
     "evalue": "substring not found",
     "output_type": "error",
     "traceback": [
      "\u001b[1;31m---------------------------------------------------------------------------\u001b[0m",
      "\u001b[1;31mValueError\u001b[0m                                Traceback (most recent call last)",
      "Cell \u001b[1;32mIn [36], line 2\u001b[0m\n\u001b[0;32m      1\u001b[0m str1 \u001b[38;5;241m=\u001b[39m \u001b[38;5;124m\"\u001b[39m\u001b[38;5;124mHe\u001b[39m\u001b[38;5;124m'\u001b[39m\u001b[38;5;124ms name is Dan. Dan is an honest man.\u001b[39m\u001b[38;5;124m\"\u001b[39m\n\u001b[1;32m----> 2\u001b[0m \u001b[38;5;28mprint\u001b[39m(\u001b[43mstr1\u001b[49m\u001b[38;5;241;43m.\u001b[39;49m\u001b[43mindex\u001b[49m\u001b[43m(\u001b[49m\u001b[38;5;124;43m\"\u001b[39;49m\u001b[38;5;124;43mDaniel\u001b[39;49m\u001b[38;5;124;43m\"\u001b[39;49m\u001b[43m)\u001b[49m)\n",
      "\u001b[1;31mValueError\u001b[0m: substring not found"
     ]
    }
   ],
   "source": [
    "str1 = \"He's name is Dan. Dan is an honest man.\"\n",
    "print(str1.index(\"Daniel\"))"
   ]
  },
  {
   "cell_type": "markdown",
   "id": "04a1a1a1",
   "metadata": {},
   "source": [
    "## 13. isalnum()"
   ]
  },
  {
   "cell_type": "markdown",
   "id": "ddd22087",
   "metadata": {},
   "source": [
    "The isalnum() method returns True only if the entire string only consists of A-Z, a-z, 0-9. If any other characters or punctuations are present, then it returns False."
   ]
  },
  {
   "cell_type": "code",
   "execution_count": null,
   "id": "0d3cf332",
   "metadata": {},
   "outputs": [],
   "source": [
    "str1 = \"WelcomeToTheConsole\"\n",
    "print(str1.isalnum())"
   ]
  },
  {
   "cell_type": "markdown",
   "id": "83f92e1d",
   "metadata": {},
   "source": [
    "## 14. isalpha()"
   ]
  },
  {
   "cell_type": "markdown",
   "id": "da2c18a7",
   "metadata": {},
   "source": [
    "The isalnum() method returns True only if the entire string only consists of A-Z, a-z. If any other characters or punctuations or numbers(0-9) are present, then it returns False."
   ]
  },
  {
   "cell_type": "code",
   "execution_count": null,
   "id": "e9439e99",
   "metadata": {},
   "outputs": [],
   "source": [
    "str1 = \"Welcome\"\n",
    "print(str1.isalpha())"
   ]
  },
  {
   "cell_type": "markdown",
   "id": "67f46e9b",
   "metadata": {},
   "source": [
    "## 15. islower()"
   ]
  },
  {
   "cell_type": "markdown",
   "id": "ac0793c5",
   "metadata": {},
   "source": [
    "The islower() method returns True if all the characters in the string are lower case, else it returns False."
   ]
  },
  {
   "cell_type": "code",
   "execution_count": null,
   "id": "3ef61a58",
   "metadata": {},
   "outputs": [],
   "source": [
    "str1 = \"hello world\"\n",
    "print(str1.islower())"
   ]
  },
  {
   "cell_type": "markdown",
   "id": "76b08343",
   "metadata": {},
   "source": [
    "## 16. isprintable()"
   ]
  },
  {
   "cell_type": "markdown",
   "id": "f56334f8",
   "metadata": {},
   "source": [
    "The isprintable() method returns True if all the values within the given string are printable, if not, then return False."
   ]
  },
  {
   "cell_type": "code",
   "execution_count": null,
   "id": "10f2879c",
   "metadata": {},
   "outputs": [],
   "source": [
    "str1 = \" We wish you a Merry Christmas\"\n",
    "print(str1.isprintable())"
   ]
  },
  {
   "cell_type": "markdown",
   "id": "18d82e51",
   "metadata": {},
   "source": [
    "## 17. isspace()"
   ]
  },
  {
   "cell_type": "markdown",
   "id": "77c2b57c",
   "metadata": {},
   "source": [
    "The isspace() method returns True only and only if the string contains white spaces, else returns False."
   ]
  },
  {
   "cell_type": "code",
   "execution_count": null,
   "id": "935c400e",
   "metadata": {},
   "outputs": [],
   "source": [
    "str1 = \"        \"       #using Spacebar\n",
    "print(str1.isspace())\n",
    "str2 = \"        \"       #using Tab\n",
    "print(str2.isspace())"
   ]
  },
  {
   "cell_type": "markdown",
   "id": "056adb2b",
   "metadata": {},
   "source": [
    "## 18. istitle()"
   ]
  },
  {
   "cell_type": "markdown",
   "id": "f273408b",
   "metadata": {},
   "source": [
    "The istitile() returns True only if the first letter of each word of the string is capitalized, else it returns False."
   ]
  },
  {
   "cell_type": "code",
   "execution_count": null,
   "id": "5fca2c65",
   "metadata": {},
   "outputs": [],
   "source": [
    "str1 = \"World Health Organization\" \n",
    "print(str1.istitle())"
   ]
  },
  {
   "cell_type": "code",
   "execution_count": null,
   "id": "280b4f3d",
   "metadata": {},
   "outputs": [],
   "source": [
    "str2 = \"To kill a Mocking bird\"\n",
    "print(str2.istitle())"
   ]
  },
  {
   "cell_type": "markdown",
   "id": "2881be0c",
   "metadata": {},
   "source": [
    "## 19. isupper()"
   ]
  },
  {
   "cell_type": "markdown",
   "id": "02bd4022",
   "metadata": {},
   "source": [
    "The isupper() method returns True if all the characters in the string are upper case, else it returns False."
   ]
  },
  {
   "cell_type": "code",
   "execution_count": null,
   "id": "e0c5d85a",
   "metadata": {},
   "outputs": [],
   "source": [
    "str1 = \"WORLD HEALTH ORGANIZATION\" \n",
    "print(str1.isupper())"
   ]
  },
  {
   "cell_type": "markdown",
   "id": "f498f28c",
   "metadata": {},
   "source": [
    "# 20. startswith()"
   ]
  },
  {
   "cell_type": "markdown",
   "id": "82d2cbec",
   "metadata": {},
   "source": [
    "The endswith() method checks if the string starts with a given value. If yes then return True, else return False."
   ]
  },
  {
   "cell_type": "code",
   "execution_count": null,
   "id": "d36567c6",
   "metadata": {},
   "outputs": [],
   "source": [
    "str1 = \"Python is a Interpreted Language\" \n",
    "print(str1.startswith(\"Python\"))"
   ]
  },
  {
   "cell_type": "markdown",
   "id": "a449e4a9",
   "metadata": {},
   "source": [
    "## 21. swapcase()"
   ]
  },
  {
   "cell_type": "markdown",
   "id": "0fb03be2",
   "metadata": {},
   "source": [
    "The swapcase() method changes the character casing of the string. Upper case are converted to lower case and lower case to upper case."
   ]
  },
  {
   "cell_type": "code",
   "execution_count": null,
   "id": "af4ec6f4",
   "metadata": {},
   "outputs": [],
   "source": [
    "str1 = \"Python is a Interpreted Language\" \n",
    "print(str1.swapcase())"
   ]
  },
  {
   "cell_type": "markdown",
   "id": "5c9c85e4",
   "metadata": {},
   "source": [
    "# 22. title()"
   ]
  },
  {
   "cell_type": "markdown",
   "id": "41566202",
   "metadata": {},
   "source": [
    "The title() method capitalizes each letter of the word within the string"
   ]
  },
  {
   "cell_type": "code",
   "execution_count": null,
   "id": "3ec25a19",
   "metadata": {},
   "outputs": [],
   "source": [
    "str1 = \"He's name is Dan. Dan is an honest man.\"\n",
    "print(str1.title())"
   ]
  },
  {
   "cell_type": "markdown",
   "id": "678ce03c",
   "metadata": {},
   "source": [
    "## Day 14  10 dec 2022"
   ]
  },
  {
   "cell_type": "markdown",
   "id": "139ca920",
   "metadata": {},
   "source": [
    "## if-else Statements"
   ]
  },
  {
   "cell_type": "markdown",
   "id": "948510ee",
   "metadata": {},
   "source": [
    "Sometimes the programmer needs to check the evaluation of certain expression(s), whether the expression(s) evaluate to True or False. If the expression evaluates to False, then the program execution follows a different path than it would have if the expression had evaluated to True.\n",
    "\n",
    "Based on this, the conditional statements are further classified into following types:\n",
    "\n",
    "if\n",
    "if-else\n",
    "if-else-elif\n",
    "nested if-else-elif.\n",
    "An if……else statement evaluates like this:\n",
    "if the expression evaluates True:\n",
    "Execute the block of code inside if statement. After execution return to the code out of the if……else block.\\\n",
    "\n",
    "if the expression evaluates False:\n",
    "Execute the block of code inside else statement. After execution return to the code out of the if……else block."
   ]
  },
  {
   "cell_type": "code",
   "execution_count": null,
   "id": "97d03d8c",
   "metadata": {},
   "outputs": [],
   "source": [
    "applePrice = 210\n",
    "budget = 200\n",
    "if (applePrice <= budget):\n",
    "    print(\"Alexa, add 1 kg Apples to the cart.\")\n",
    "else:\n",
    "    print(\"Alexa, do not add Apples to the cart.\")"
   ]
  },
  {
   "cell_type": "code",
   "execution_count": null,
   "id": "a30c1c85",
   "metadata": {},
   "outputs": [],
   "source": [
    "applePrice = 10\n",
    "budget = 200\n",
    "if (budget - applePrice > 50):\n",
    "    print(\"Alexa, add 1 kg Apples to the cart.\")\n",
    "else:\n",
    "    print(\"Alexa, do not add Apples to the cart.\")"
   ]
  },
  {
   "cell_type": "code",
   "execution_count": null,
   "id": "e59090f5",
   "metadata": {},
   "outputs": [],
   "source": []
  },
  {
   "cell_type": "markdown",
   "id": "43c0ac79",
   "metadata": {},
   "source": [
    "## elif Statements"
   ]
  },
  {
   "cell_type": "markdown",
   "id": "cf6d0e92",
   "metadata": {},
   "source": [
    "Sometimes, the programmer may want to evaluate more than one condition, this can be done using an elif statement.\n",
    "\n",
    "Working of an elif statement\n",
    "Execute the block of code inside if statement if the initial expression evaluates to True. After execution return to the code out of the if block.\n",
    "\n",
    "Execute the block of code inside the first elif statement if the expression inside it evaluates True. After execution return to the code out of the if block.\n",
    "\n",
    "Execute the block of code inside the second elif statement if the expression inside it evaluates True. After execution return to the code out of the if block.\n",
    ".\n",
    ".\n",
    ".\n",
    "Execute the block of code inside the nth elif statement if the expression inside it evaluates True. After execution return to the code out of the if block.\n",
    "\n",
    "Execute the block of code inside else statement if none of the expression evaluates to True. After execution return to the code out of the if block."
   ]
  },
  {
   "cell_type": "code",
   "execution_count": null,
   "id": "4117f419",
   "metadata": {},
   "outputs": [],
   "source": [
    "num = 0\n",
    "if (num < 0):\n",
    "    print(\"Number is negative.\")\n",
    "elif (num == 0):\n",
    "    print(\"Number is Zero.\")\n",
    "else:\n",
    "    print(\"Number is positive.\")"
   ]
  },
  {
   "cell_type": "markdown",
   "id": "f61abf6c",
   "metadata": {},
   "source": [
    "## Nested if Statements"
   ]
  },
  {
   "cell_type": "markdown",
   "id": "fe83fa1f",
   "metadata": {},
   "source": [
    "We can use if, if-else, elif statements inside other if statements as well."
   ]
  },
  {
   "cell_type": "code",
   "execution_count": null,
   "id": "1a3d6bed",
   "metadata": {},
   "outputs": [],
   "source": [
    "num = 18\n",
    "if (num < 0):\n",
    "    print(\"Number is negative.\")\n",
    "elif (num > 0):\n",
    "    if (num <= 10):\n",
    "        print(\"Number is between 1-10\")\n",
    "    elif (num > 10 and num <= 20):\n",
    "        print(\"Number is between 11-20\")\n",
    "    else:\n",
    "        print(\"Number is greater than 20\")\n",
    "else:\n",
    "    print(\"Number is zero\")"
   ]
  },
  {
   "cell_type": "markdown",
   "id": "6cd99a71",
   "metadata": {},
   "source": [
    "## Day 15"
   ]
  },
  {
   "cell_type": "markdown",
   "id": "4006f11c",
   "metadata": {},
   "source": [
    "Some Exercise "
   ]
  },
  {
   "cell_type": "markdown",
   "id": "0168dd07",
   "metadata": {},
   "source": [
    "Create a python program capable of greeting you with Good Morning, Good Afternoon and Good Evening. Your program should use time module to get the current hour"
   ]
  },
  {
   "cell_type": "code",
   "execution_count": 1,
   "id": "abceed47",
   "metadata": {},
   "outputs": [
    {
     "name": "stdout",
     "output_type": "stream",
     "text": [
      "11:41:06\n",
      "11\n",
      "41\n",
      "06\n"
     ]
    }
   ],
   "source": [
    "import time\n",
    "timestamp = time.strftime('%H:%M:%S')\n",
    "print(timestamp)\n",
    "timestamp = time.strftime('%H')\n",
    "print(timestamp)\n",
    "timestamp = time.strftime('%M')\n",
    "print(timestamp)\n",
    "timestamp = time.strftime('%S')\n",
    "print(timestamp)\n",
    "# https://docs.python.org/3/library/time.html#time.strftime"
   ]
  },
  {
   "cell_type": "markdown",
   "id": "a6740326",
   "metadata": {},
   "source": [
    "## Day 16 11-dec-2022"
   ]
  },
  {
   "cell_type": "markdown",
   "id": "3ab736ec",
   "metadata": {},
   "source": [
    "Match Case Statements"
   ]
  },
  {
   "cell_type": "markdown",
   "id": "2a75172b",
   "metadata": {},
   "source": [
    "To implement switch-case like characteristics very similar to if-else functionality, we use a match case in python. If you are coming from a C, C++ or Java like language, you must have heard of switch-case statements"
   ]
  },
  {
   "cell_type": "markdown",
   "id": "d9a3bdaa",
   "metadata": {},
   "source": [
    "The match case consists of three main entities :"
   ]
  },
  {
   "cell_type": "markdown",
   "id": "5feb1a6f",
   "metadata": {},
   "source": [
    "1. The match keyword\n",
    "2. One or more case clauses\n",
    "3. Expression for each case"
   ]
  },
  {
   "cell_type": "markdown",
   "id": "d8dc53ab",
   "metadata": {},
   "source": [
    "Syntax :--"
   ]
  },
  {
   "cell_type": "markdown",
   "id": "7ab091a1",
   "metadata": {},
   "source": [
    "match variable_name:\n",
    "\n",
    "            case ‘pattern1’ : //statement1\n",
    "            case ‘pattern2’ : //statement2\n",
    "            …            \n",
    "            case ‘pattern n’ : //statement n"
   ]
  },
  {
   "cell_type": "code",
   "execution_count": 6,
   "id": "bf2d36e3",
   "metadata": {},
   "outputs": [
    {
     "name": "stdout",
     "output_type": "stream",
     "text": [
      "x % 2 == 0 and case is 4\n"
     ]
    }
   ],
   "source": [
    "x = 4\n",
    "# x is the variable to match\n",
    "match x:\n",
    "    # if x is 0\n",
    "    case 0:\n",
    "        print(\"x is zero\")\n",
    "    # case with if-condition\n",
    "    case 4 if x % 2 == 0:\n",
    "        print(\"x % 2 == 0 and case is 4\")\n",
    "    # Empty case with if-condition\n",
    "    case _ if x < 10:\n",
    "        print(\"x is < 10\")\n",
    "    # default case(will only be matched if the above cases were not matched)\n",
    "    # so it is basically just an else:\n",
    "    case _:\n",
    "        print(x)"
   ]
  },
  {
   "cell_type": "code",
   "execution_count": 7,
   "id": "fda38b02",
   "metadata": {},
   "outputs": [
    {
     "name": "stdout",
     "output_type": "stream",
     "text": [
      "Enter the value of x: 5\n",
      "5 is not 90\n"
     ]
    }
   ],
   "source": [
    "x = int(input(\"Enter the value of x: \"))\n",
    "# x is the variable to match\n",
    "match x:\n",
    "    # if x is 0\n",
    "    case 0:\n",
    "        print(\"x is zero\")\n",
    "    # case with if-condition\n",
    "    case 4:\n",
    "        print(\"case is 4\")\n",
    "\n",
    "    case _ if x!=90:\n",
    "        print(x, \"is not 90\")\n",
    "    case _ if x!=80:\n",
    "        print(x, \"is not 80\")\n",
    "    case _:\n",
    "        print(x)"
   ]
  },
  {
   "cell_type": "markdown",
   "id": "18547eb0",
   "metadata": {},
   "source": [
    "## Day 17 -for loop"
   ]
  },
  {
   "cell_type": "code",
   "execution_count": null,
   "id": "ab35ebd9",
   "metadata": {},
   "outputs": [],
   "source": []
  },
  {
   "cell_type": "code",
   "execution_count": null,
   "id": "6d78b417",
   "metadata": {},
   "outputs": [],
   "source": []
  },
  {
   "cell_type": "code",
   "execution_count": null,
   "id": "6eb1bc84",
   "metadata": {},
   "outputs": [],
   "source": []
  },
  {
   "cell_type": "markdown",
   "id": "b1801f97",
   "metadata": {},
   "source": [
    "Introduction to Loops"
   ]
  },
  {
   "cell_type": "markdown",
   "id": "86f0f348",
   "metadata": {},
   "source": [
    "Sometimes a programmer wants to execute a group of statements a certain number of times. This can be done using loops. Based on this loops are further classified into following main types;"
   ]
  },
  {
   "cell_type": "markdown",
   "id": "68c66c31",
   "metadata": {},
   "source": [
    "1. for loop\n",
    "2. while loop"
   ]
  },
  {
   "cell_type": "markdown",
   "id": "5b719e47",
   "metadata": {},
   "source": [
    "The for Loop\n"
   ]
  },
  {
   "cell_type": "code",
   "execution_count": 8,
   "id": "a7889ca3",
   "metadata": {},
   "outputs": [
    {
     "name": "stdout",
     "output_type": "stream",
     "text": [
      "A, b, h, i, s, h, e, k, "
     ]
    }
   ],
   "source": [
    "name = 'Abhishek'\n",
    "for i in name:\n",
    "    print(i, end=\", \")"
   ]
  },
  {
   "cell_type": "code",
   "execution_count": 9,
   "id": "8794f7ff",
   "metadata": {},
   "outputs": [
    {
     "name": "stdout",
     "output_type": "stream",
     "text": [
      "Red\n",
      "Green\n",
      "Blue\n",
      "Yellow\n"
     ]
    }
   ],
   "source": [
    "colors = [\"Red\", \"Green\", \"Blue\", \"Yellow\"]\n",
    "for x in colors:\n",
    "    print(x)"
   ]
  },
  {
   "cell_type": "code",
   "execution_count": 10,
   "id": "f9cafa45",
   "metadata": {},
   "outputs": [
    {
     "name": "stdout",
     "output_type": "stream",
     "text": [
      "0\n",
      "1\n",
      "2\n",
      "3\n",
      "4\n"
     ]
    }
   ],
   "source": [
    "for k in range(5):\n",
    "    print(k)"
   ]
  },
  {
   "cell_type": "code",
   "execution_count": 11,
   "id": "bd86dfea",
   "metadata": {},
   "outputs": [
    {
     "name": "stdout",
     "output_type": "stream",
     "text": [
      "4\n",
      "5\n",
      "6\n",
      "7\n",
      "8\n"
     ]
    }
   ],
   "source": [
    "for k in range(4,9):\n",
    "    print(k)"
   ]
  },
  {
   "cell_type": "markdown",
   "id": "9ad10a41",
   "metadata": {},
   "source": [
    "## Day 18 - while loop"
   ]
  },
  {
   "cell_type": "code",
   "execution_count": null,
   "id": "883ff394",
   "metadata": {},
   "outputs": [],
   "source": []
  },
  {
   "cell_type": "markdown",
   "id": "d24c875f",
   "metadata": {},
   "source": [
    "Python while Loop"
   ]
  },
  {
   "cell_type": "markdown",
   "id": "c111ae91",
   "metadata": {},
   "source": [
    "As the name suggests, while loops execute statements while the condition is True. As soon as the condition becomes False, the interpreter comes out of the while loop."
   ]
  },
  {
   "cell_type": "code",
   "execution_count": 12,
   "id": "25c3acef",
   "metadata": {},
   "outputs": [
    {
     "name": "stdout",
     "output_type": "stream",
     "text": [
      "5\n",
      "4\n",
      "3\n",
      "2\n",
      "1\n"
     ]
    }
   ],
   "source": [
    "count = 5\n",
    "while (count > 0):\n",
    "  print(count)\n",
    "  count = count - 1"
   ]
  },
  {
   "cell_type": "code",
   "execution_count": 13,
   "id": "c785c5f7",
   "metadata": {},
   "outputs": [
    {
     "name": "stdout",
     "output_type": "stream",
     "text": [
      "5\n",
      "4\n",
      "3\n",
      "2\n",
      "1\n",
      "counter is 0\n"
     ]
    }
   ],
   "source": [
    "x = 5\n",
    "while (x > 0):\n",
    "    print(x)\n",
    "    x = x - 1\n",
    "else:\n",
    "    print('counter is 0')"
   ]
  },
  {
   "cell_type": "markdown",
   "id": "50be13d7",
   "metadata": {},
   "source": [
    "Do While loop in python"
   ]
  },
  {
   "cell_type": "code",
   "execution_count": 14,
   "id": "f5e3a7f2",
   "metadata": {},
   "outputs": [
    {
     "name": "stdout",
     "output_type": "stream",
     "text": [
      "Enter a positive number: 2\n",
      "2\n",
      "Enter a positive number: -1\n",
      "-1\n"
     ]
    }
   ],
   "source": [
    "while True:\n",
    "  number = int(input(\"Enter a positive number: \"))\n",
    "  print(number)\n",
    "  if not number > 0:\n",
    "    break"
   ]
  },
  {
   "cell_type": "markdown",
   "id": "79d78c0c",
   "metadata": {},
   "source": [
    "## Day 19- Break and continue "
   ]
  },
  {
   "cell_type": "code",
   "execution_count": null,
   "id": "9a63f848",
   "metadata": {},
   "outputs": [],
   "source": []
  },
  {
   "cell_type": "markdown",
   "id": "a34b3eee",
   "metadata": {},
   "source": [
    "break statement\n"
   ]
  },
  {
   "cell_type": "markdown",
   "id": "99146cba",
   "metadata": {},
   "source": [
    "The break statement enables a program to skip over a part of the code. A break statement terminates the very loop it lies within"
   ]
  },
  {
   "cell_type": "code",
   "execution_count": 18,
   "id": "dace24d0",
   "metadata": {},
   "outputs": [
    {
     "name": "stdout",
     "output_type": "stream",
     "text": [
      "1 Mississippi\n",
      "2 Mississippi\n",
      "3 Mississippi\n",
      "4 Mississippi\n",
      "5 Mississippi\n",
      "6 Mississippi\n",
      "7 Mississippi\n",
      "8 Mississippi\n",
      "9 Thank you\n"
     ]
    }
   ],
   "source": [
    "for i in range(1,11,1):\n",
    "    print(i ,end=\" \")\n",
    "    if(i==9):\n",
    "        break\n",
    "    else:\n",
    "        print(\"Mississippi\")\n",
    "print(\"Thank you\")"
   ]
  },
  {
   "cell_type": "markdown",
   "id": "6f91331a",
   "metadata": {},
   "source": [
    "Continue Statement:\n",
    "\n",
    "The continue statement skips the rest of the loop statements and causes the next iteration to occur."
   ]
  },
  {
   "cell_type": "code",
   "execution_count": 19,
   "id": "181298e3",
   "metadata": {},
   "outputs": [
    {
     "name": "stdout",
     "output_type": "stream",
     "text": [
      "2\n",
      "4\n",
      "6\n",
      "8\n",
      "0\n"
     ]
    }
   ],
   "source": [
    "for i in [2,3,4,6,8,0]:\n",
    "    if (i%2!=0):\n",
    "        continue\n",
    "    print(i)"
   ]
  },
  {
   "cell_type": "markdown",
   "id": "1cf6a309",
   "metadata": {},
   "source": [
    "## Day 20 - Function"
   ]
  },
  {
   "cell_type": "markdown",
   "id": "93b7e7b0",
   "metadata": {},
   "source": [
    "Python Functions\n",
    "A function is a block of code that performs a specific task whenever it is called. In bigger programs, where we have large amounts of code, it is advisable to create or use existing functions that make the program flow organized and neat."
   ]
  },
  {
   "cell_type": "markdown",
   "id": "c9249f8a",
   "metadata": {},
   "source": [
    "There are two types of functions :"
   ]
  },
  {
   "cell_type": "markdown",
   "id": "c3597821",
   "metadata": {},
   "source": [
    "1. Built-in function : \n",
    "\n",
    "   min(), max(), len(), sum(), type(), range(), dict(), list(), tuple(), set(), print(), etc\n",
    "2. User Defined function:\n",
    "\n",
    "   def function_name(parameters):\n",
    "  pass\n",
    "   //Code and Statements"
   ]
  },
  {
   "cell_type": "code",
   "execution_count": 21,
   "id": "ebf86492",
   "metadata": {},
   "outputs": [
    {
     "name": "stdout",
     "output_type": "stream",
     "text": [
      "Hello, Sam Wilson\n"
     ]
    }
   ],
   "source": [
    "def name(fname, lname):\n",
    "    print(\"Hello,\", fname, lname)\n",
    "\n",
    "name(\"Sam\", \"Wilson\")"
   ]
  },
  {
   "cell_type": "code",
   "execution_count": 22,
   "id": "d918b4c1",
   "metadata": {},
   "outputs": [
    {
     "name": "stdout",
     "output_type": "stream",
     "text": [
      "First number is greater\n",
      "4.235294117647059\n",
      "Second number is greater or equal\n",
      "7.219512195121951\n"
     ]
    }
   ],
   "source": [
    "def calculateGmean(a, b):\n",
    "  mean = (a*b)/(a+b)\n",
    "  print(mean)\n",
    "\n",
    "def isGreater(a, b):\n",
    "  if(a>b):\n",
    "    print(\"First number is greater\")\n",
    "  else:\n",
    "    print(\"Second number is greater or equal\")\n",
    "\n",
    "def isLesser(a, b):\n",
    "  pass\n",
    "  \n",
    "\n",
    "a = 9\n",
    "b = 8\n",
    "isGreater(a, b)\n",
    "calculateGmean(a, b)\n",
    "# gmean1 = (a*b)/(a+b)\n",
    "# print(gmean1)\n",
    "c = 8\n",
    "d = 74\n",
    "isGreater(c, d)\n",
    "calculateGmean(c, d)\n",
    "# gmean2 = (c*d)/(c+d)\n",
    "# print(gmean2)"
   ]
  },
  {
   "cell_type": "markdown",
   "id": "5d16b783",
   "metadata": {},
   "source": [
    "## Day 21 - Function Arguments"
   ]
  },
  {
   "cell_type": "markdown",
   "id": "39f1fad6",
   "metadata": {},
   "source": [
    "Function Arguments and return statement"
   ]
  },
  {
   "cell_type": "markdown",
   "id": "8f685dfa",
   "metadata": {},
   "source": [
    "There are four types of arguments that we can provide in a function:\n",
    "\n",
    "  (i)   Default Arguments\n",
    "  \n",
    "  (ii)  Keyword Arguments\n",
    "  \n",
    "  (iii) Variable length Arguments\n",
    "  \n",
    "  (iv)  Required Arguments\n"
   ]
  },
  {
   "cell_type": "markdown",
   "id": "6b1a0172",
   "metadata": {},
   "source": [
    "## Default Arguments  : "
   ]
  },
  {
   "cell_type": "markdown",
   "id": "a935a952",
   "metadata": {},
   "source": [
    "We can provide a default value while creating a function. This way the function assumes a default value even if a value is not provided in the function call for that argument."
   ]
  },
  {
   "cell_type": "code",
   "execution_count": 24,
   "id": "d8ef7f3f",
   "metadata": {},
   "outputs": [
    {
     "name": "stdout",
     "output_type": "stream",
     "text": [
      "Hello, Amy Jhon Whatson\n"
     ]
    }
   ],
   "source": [
    "def name(fname, mname = \"Jhon\", lname = \"Whatson\"):\n",
    "    print(\"Hello,\", fname, mname, lname)\n",
    "\n",
    "name(\"Amy\")"
   ]
  },
  {
   "cell_type": "markdown",
   "id": "a84f991c",
   "metadata": {},
   "source": [
    "## Keyword Arguments : "
   ]
  },
  {
   "cell_type": "markdown",
   "id": "0ace3a01",
   "metadata": {},
   "source": [
    "We can provide arguments with key = value, this way the interpreter recognizes the arguments by the parameter name. Hence, the the order in which the arguments are passed does not matter."
   ]
  },
  {
   "cell_type": "code",
   "execution_count": 25,
   "id": "ed0f099f",
   "metadata": {},
   "outputs": [
    {
     "name": "stdout",
     "output_type": "stream",
     "text": [
      "Hello, Jade Peter Wesker\n"
     ]
    }
   ],
   "source": [
    "def name(fname, mname, lname):\n",
    "    print(\"Hello,\", fname, mname, lname)\n",
    "\n",
    "name(mname = \"Peter\", lname = \"Wesker\", fname = \"Jade\")"
   ]
  },
  {
   "cell_type": "markdown",
   "id": "ead171fe",
   "metadata": {},
   "source": [
    "## Required Arguments :"
   ]
  },
  {
   "cell_type": "code",
   "execution_count": null,
   "id": "049e8e98",
   "metadata": {},
   "outputs": [],
   "source": []
  },
  {
   "cell_type": "markdown",
   "id": "15830f16",
   "metadata": {},
   "source": [
    "In case we don’t pass the arguments with a key = value syntax, then it is necessary to pass the arguments in the correct positional order and the number of arguments passed should match with actual function definition.\n",
    "\n",
    "Example 1: when number of arguments passed does not match to the actual function definition."
   ]
  },
  {
   "cell_type": "code",
   "execution_count": 27,
   "id": "fe29c0ea",
   "metadata": {},
   "outputs": [
    {
     "name": "stdout",
     "output_type": "stream",
     "text": [
      "Hello, Peter Quill hey\n"
     ]
    }
   ],
   "source": [
    "def name(fname, mname, lname):\n",
    "    print(\"Hello,\", fname, mname, lname)\n",
    "\n",
    "name(\"Peter\", \"Quill\" )"
   ]
  },
  {
   "cell_type": "markdown",
   "id": "17973786",
   "metadata": {},
   "source": [
    "Example 2: when number of arguments passed matches to the actual function definition"
   ]
  },
  {
   "cell_type": "code",
   "execution_count": 28,
   "id": "cec8362e",
   "metadata": {},
   "outputs": [
    {
     "name": "stdout",
     "output_type": "stream",
     "text": [
      "Hello, Peter Ego Quill\n"
     ]
    }
   ],
   "source": [
    "def name(fname, mname, lname):\n",
    "    print(\"Hello,\", fname, mname, lname)\n",
    "\n",
    "name(\"Peter\", \"Ego\", \"Quill\")"
   ]
  },
  {
   "cell_type": "markdown",
   "id": "66bdcffa",
   "metadata": {},
   "source": [
    "## Variable-length arguments:\n"
   ]
  },
  {
   "cell_type": "markdown",
   "id": "aea35611",
   "metadata": {},
   "source": [
    "Sometimes we may need to pass more arguments than those defined in the actual function. This can be done using variable-length arguments.\n",
    "\n",
    "There are two ways to achieve this:\n",
    "\n",
    "## Arbitrary Arguments:\n",
    "\n",
    "While creating a function, pass a * before the parameter name while defining the function. The function accesses the arguments by processing them in the form of tuple.\n",
    "\n"
   ]
  },
  {
   "cell_type": "code",
   "execution_count": null,
   "id": "a13379d6",
   "metadata": {},
   "outputs": [],
   "source": []
  },
  {
   "cell_type": "code",
   "execution_count": 29,
   "id": "ec27e47a",
   "metadata": {},
   "outputs": [
    {
     "name": "stdout",
     "output_type": "stream",
     "text": [
      "Hello, James Buchanan Barnes\n"
     ]
    }
   ],
   "source": [
    "def name(*name):\n",
    "    print(\"Hello,\", name[0], name[1], name[2])\n",
    "\n",
    "name(\"James\", \"Buchanan\", \"Barnes\")"
   ]
  },
  {
   "cell_type": "markdown",
   "id": "62732f13",
   "metadata": {},
   "source": [
    "## Keyword Arbitrary Arguments:\n",
    "While creating a function, pass a * before the parameter name while defining the function. The function accesses the arguments by processing them in the form of dictionary."
   ]
  },
  {
   "cell_type": "code",
   "execution_count": 32,
   "id": "7dfa594b",
   "metadata": {},
   "outputs": [
    {
     "name": "stdout",
     "output_type": "stream",
     "text": [
      "Hello, James Buchanan Barnes\n"
     ]
    }
   ],
   "source": [
    "def name(**name):\n",
    "    print(\"Hello,\", name[\"fname\"], name[\"mname\"], name[\"lname\"])\n",
    "\n",
    "name(mname = \"Buchanan\", lname = \"Barnes\", fname = \"James\")"
   ]
  },
  {
   "cell_type": "code",
   "execution_count": null,
   "id": "031da227",
   "metadata": {},
   "outputs": [],
   "source": []
  },
  {
   "cell_type": "markdown",
   "id": "2ca85cd9",
   "metadata": {},
   "source": [
    "## return Statement\n",
    "The return statement is used to return the value of the expression back to the calling function."
   ]
  },
  {
   "cell_type": "code",
   "execution_count": 31,
   "id": "98cd20fb",
   "metadata": {},
   "outputs": [
    {
     "name": "stdout",
     "output_type": "stream",
     "text": [
      "Hello, James Buchanan Barnes\n"
     ]
    }
   ],
   "source": [
    "def name(fname, mname, lname):\n",
    "    return \"Hello, \" + fname + \" \" + mname + \" \" + lname\n",
    "\n",
    "print(name(\"James\", \"Buchanan\", \"Barnes\"))"
   ]
  },
  {
   "cell_type": "markdown",
   "id": "6023f4a7",
   "metadata": {},
   "source": [
    "## Day 22 - Introduction to List "
   ]
  },
  {
   "cell_type": "markdown",
   "id": "5f2df1c2",
   "metadata": {},
   "source": [
    "## Python Lists\n",
    "1. Lists are ordered collection of data items.\n",
    "\n",
    "2. They store multiple items in a single variable.\n",
    "\n",
    "3. List items are separated by commas and enclosed within square brackets [].\n",
    "\n",
    "4. Lists are changeable meaning we can alter them after creation."
   ]
  },
  {
   "cell_type": "code",
   "execution_count": 33,
   "id": "752ccf5e",
   "metadata": {},
   "outputs": [
    {
     "name": "stdout",
     "output_type": "stream",
     "text": [
      "[1, 2, 2, 3, 5, 4, 6]\n",
      "['Red', 'Green', 'Blue']\n"
     ]
    }
   ],
   "source": [
    "lst1 = [1,2,2,3,5,4,6]\n",
    "lst2 = [\"Red\", \"Green\", \"Blue\"]\n",
    "print(lst1)\n",
    "print(lst2)"
   ]
  },
  {
   "cell_type": "code",
   "execution_count": 34,
   "id": "191a37e6",
   "metadata": {},
   "outputs": [
    {
     "name": "stdout",
     "output_type": "stream",
     "text": [
      "['Abhijeet', 18, 'FYBScIT', 9.8]\n"
     ]
    }
   ],
   "source": [
    "details = [\"Abhijeet\", 18, \"FYBScIT\", 9.8]\n",
    "print(details)"
   ]
  },
  {
   "cell_type": "markdown",
   "id": "4d61fba3",
   "metadata": {},
   "source": [
    "## List Index\n",
    "Each item/element in a list has its own unique index. This index can be used to access any particular item from the list. The first item has index [0], second item has index [1], third item has index [2] and so on."
   ]
  },
  {
   "cell_type": "code",
   "execution_count": 36,
   "id": "494e4376",
   "metadata": {},
   "outputs": [
    {
     "name": "stdout",
     "output_type": "stream",
     "text": [
      "Green\n"
     ]
    }
   ],
   "source": [
    "colors = [\"Red\", \"Green\", \"Blue\", \"Yellow\", \"Green\"]\n",
    "#          [0]      [1]     [2]      [3]      [4]\n",
    "print(colors[4])"
   ]
  },
  {
   "cell_type": "markdown",
   "id": "58f6363f",
   "metadata": {},
   "source": [
    "## Accessing list items\n",
    "We can access list items by using its index with the square bracket syntax []. For example colors[0] will give \"Red\", colors[1] will give \"Green\" and so on...\n",
    "\n",
    "## Positive Indexing:\n",
    "As we have seen that list items have index, as such we can access items using these indexes."
   ]
  },
  {
   "cell_type": "code",
   "execution_count": 37,
   "id": "5ab154c9",
   "metadata": {},
   "outputs": [
    {
     "name": "stdout",
     "output_type": "stream",
     "text": [
      "Blue\n",
      "Green\n",
      "Red\n"
     ]
    }
   ],
   "source": [
    "colors = [\"Red\", \"Green\", \"Blue\", \"Yellow\", \"Green\"]\n",
    "#          [0]      [1]     [2]      [3]      [4]\n",
    "print(colors[2])\n",
    "print(colors[4])\n",
    "print(colors[0])"
   ]
  },
  {
   "cell_type": "markdown",
   "id": "a731f945",
   "metadata": {},
   "source": [
    "## Negative Indexing:\n",
    "Similar to positive indexing, negative indexing is also used to access items, but from the end of the list. The last item has index [-1], second last item has index [-2], third last item has index [-3] and so on."
   ]
  },
  {
   "cell_type": "code",
   "execution_count": 38,
   "id": "c375c2bc",
   "metadata": {},
   "outputs": [
    {
     "name": "stdout",
     "output_type": "stream",
     "text": [
      "Green\n",
      "Blue\n",
      "Red\n"
     ]
    }
   ],
   "source": [
    "colors = [\"Red\", \"Green\", \"Blue\", \"Yellow\", \"Green\"]\n",
    "#          [-5]    [-4]    [-3]     [-2]      [-1]\n",
    "print(colors[-1])\n",
    "print(colors[-3])\n",
    "print(colors[-5])"
   ]
  },
  {
   "cell_type": "markdown",
   "id": "9a0a18ce",
   "metadata": {},
   "source": [
    "## Check whether an item in present in the list?\n",
    "\n",
    "We can check if a given item is present in the list. This is done using the in keyword"
   ]
  },
  {
   "cell_type": "code",
   "execution_count": 39,
   "id": "784a57e8",
   "metadata": {},
   "outputs": [
    {
     "name": "stdout",
     "output_type": "stream",
     "text": [
      "Yellow is present.\n"
     ]
    }
   ],
   "source": [
    "colors = [\"Red\", \"Green\", \"Blue\", \"Yellow\", \"Green\"]\n",
    "if \"Yellow\" in colors:\n",
    "    print(\"Yellow is present.\")\n",
    "else:\n",
    "    print(\"Yellow is absent.\")"
   ]
  },
  {
   "cell_type": "markdown",
   "id": "1b58bee0",
   "metadata": {},
   "source": [
    "## Range of Index:\n",
    "You can print a range of list items by specifying where you want to start, where do you want to end and if you want to skip elements in between the range."
   ]
  },
  {
   "cell_type": "markdown",
   "id": "2e6c0783",
   "metadata": {},
   "source": [
    "listName[start : end : jumpIndex]"
   ]
  },
  {
   "cell_type": "markdown",
   "id": "1690b38c",
   "metadata": {},
   "source": [
    "## Example: printing elements within a particular range:"
   ]
  },
  {
   "cell_type": "code",
   "execution_count": 41,
   "id": "563c2ec5",
   "metadata": {},
   "outputs": [
    {
     "name": "stdout",
     "output_type": "stream",
     "text": [
      "['mouse', 'pig', 'horse', 'donkey']\n",
      "['bat', 'mouse', 'pig', 'horse', 'donkey']\n"
     ]
    }
   ],
   "source": [
    "animals = [\"cat\", \"dog\", \"bat\", \"mouse\", \"pig\", \"horse\", \"donkey\", \"goat\", \"cow\"]\n",
    "print(animals[3:7])\t#using positive indexes\n",
    "print(animals[-7:-2])\t#using negative indexes'"
   ]
  },
  {
   "cell_type": "markdown",
   "id": "ceb801a4",
   "metadata": {},
   "source": [
    "## Example: printing all element from a given index till the end"
   ]
  },
  {
   "cell_type": "code",
   "execution_count": 42,
   "id": "343fb5aa",
   "metadata": {},
   "outputs": [
    {
     "name": "stdout",
     "output_type": "stream",
     "text": [
      "['pig', 'horse', 'donkey', 'goat', 'cow']\n",
      "['horse', 'donkey', 'goat', 'cow']\n"
     ]
    }
   ],
   "source": [
    "animals = [\"cat\", \"dog\", \"bat\", \"mouse\", \"pig\", \"horse\", \"donkey\", \"goat\", \"cow\"]\n",
    "print(animals[4:])\t#using positive indexes\n",
    "print(animals[-4:])\t#using negative indexes"
   ]
  },
  {
   "cell_type": "markdown",
   "id": "304ade68",
   "metadata": {},
   "source": [
    "## Example: printing all elements from start to a given ind"
   ]
  },
  {
   "cell_type": "code",
   "execution_count": 43,
   "id": "69a2363d",
   "metadata": {},
   "outputs": [
    {
     "name": "stdout",
     "output_type": "stream",
     "text": [
      "['cat', 'dog', 'bat', 'mouse', 'pig', 'horse']\n",
      "['cat', 'dog', 'bat', 'mouse', 'pig', 'horse']\n"
     ]
    }
   ],
   "source": [
    "animals = [\"cat\", \"dog\", \"bat\", \"mouse\", \"pig\", \"horse\", \"donkey\", \"goat\", \"cow\"]\n",
    "print(animals[:6])\t#using positive indexes\n",
    "print(animals[:-3])\t#using negative indexes"
   ]
  },
  {
   "cell_type": "markdown",
   "id": "f7dc7d54",
   "metadata": {},
   "source": [
    "## Example: Printing alternate values"
   ]
  },
  {
   "cell_type": "code",
   "execution_count": 44,
   "id": "aa0d0ac5",
   "metadata": {},
   "outputs": [
    {
     "name": "stdout",
     "output_type": "stream",
     "text": [
      "['cat', 'bat', 'pig', 'donkey', 'cow']\n",
      "['dog', 'mouse', 'horse', 'goat']\n"
     ]
    }
   ],
   "source": [
    "animals = [\"cat\", \"dog\", \"bat\", \"mouse\", \"pig\", \"horse\", \"donkey\", \"goat\", \"cow\"]\n",
    "print(animals[::2])\t\t#using positive indexes\n",
    "print(animals[-8:-1:2])\t#using negative indexes"
   ]
  },
  {
   "cell_type": "markdown",
   "id": "6615acdc",
   "metadata": {},
   "source": [
    "## Example: printing every 3rd consecutive value withing a given range"
   ]
  },
  {
   "cell_type": "code",
   "execution_count": 45,
   "id": "5749d499",
   "metadata": {},
   "outputs": [
    {
     "name": "stdout",
     "output_type": "stream",
     "text": [
      "['dog', 'pig', 'goat']\n"
     ]
    }
   ],
   "source": [
    "animals = [\"cat\", \"dog\", \"bat\", \"mouse\", \"pig\", \"horse\", \"donkey\", \"goat\", \"cow\"]\n",
    "print(animals[1:8:3])"
   ]
  },
  {
   "cell_type": "markdown",
   "id": "66c0e22d",
   "metadata": {},
   "source": [
    "## List Comprehension\n",
    "List comprehensions are used for creating new lists from other iterables like lists, tuples, dictionaries, sets, and even in arrays and strings.\n",
    "\n",
    "## Syntax:\n",
    "List = [Expression(item) for item in iterable if Condition]\n",
    "\n",
    "Expression: It is the item which is being iterated.\n",
    "\n",
    "Iterable: It can be list, tuples, dictionaries, sets, and even in arrays and strings.\n",
    "\n",
    "Condition: Condition checks if the item should be added to the new list or not.\n",
    "\n",
    "## Example 1: Accepts items with the small letter “o” in the new list"
   ]
  },
  {
   "cell_type": "code",
   "execution_count": 46,
   "id": "7b1d1471",
   "metadata": {},
   "outputs": [
    {
     "name": "stdout",
     "output_type": "stream",
     "text": [
      "['Milo', 'Bruno', 'Rosa']\n"
     ]
    }
   ],
   "source": [
    "names = [\"Milo\", \"Sarah\", \"Bruno\", \"Anastasia\", \"Rosa\"]\n",
    "namesWith_O = [item for item in names if \"o\" in item]\n",
    "print(namesWith_O)"
   ]
  },
  {
   "cell_type": "markdown",
   "id": "7a915d2f",
   "metadata": {},
   "source": [
    "## Example 2: Accepts items which have more than 4 letters"
   ]
  },
  {
   "cell_type": "code",
   "execution_count": 47,
   "id": "244909b1",
   "metadata": {},
   "outputs": [
    {
     "name": "stdout",
     "output_type": "stream",
     "text": [
      "['Sarah', 'Bruno', 'Anastasia']\n"
     ]
    }
   ],
   "source": [
    "names = [\"Milo\", \"Sarah\", \"Bruno\", \"Anastasia\", \"Rosa\"]\n",
    "namesWith_O = [item for item in names if (len(item) > 4)]\n",
    "print(namesWith_O)"
   ]
  },
  {
   "cell_type": "markdown",
   "id": "630fefec",
   "metadata": {},
   "source": [
    "## Day 23 List methods"
   ]
  },
  {
   "cell_type": "markdown",
   "id": "dbe1117f",
   "metadata": {},
   "source": [
    "## list.sort()                "
   ]
  },
  {
   "cell_type": "markdown",
   "id": "52607ed4",
   "metadata": {},
   "source": [
    "This method sorts the list in ascending order. The original list is updated"
   ]
  },
  {
   "cell_type": "code",
   "execution_count": 1,
   "id": "d0d7b1b3",
   "metadata": {},
   "outputs": [
    {
     "name": "stdout",
     "output_type": "stream",
     "text": [
      "['blue', 'green', 'indigo', 'voilet']\n",
      "[1, 1, 2, 2, 2, 3, 4, 5, 6, 7, 8, 9]\n"
     ]
    }
   ],
   "source": [
    "colors = [\"voilet\", \"indigo\", \"blue\", \"green\"]\n",
    "colors.sort()\n",
    "print(colors)\n",
    "\n",
    "num = [4,2,5,3,6,1,2,1,2,8,9,7]\n",
    "num.sort()\n",
    "print(num)"
   ]
  },
  {
   "cell_type": "markdown",
   "id": "7df45f1d",
   "metadata": {},
   "source": [
    "## reverse()"
   ]
  },
  {
   "cell_type": "code",
   "execution_count": 2,
   "id": "93c67e84",
   "metadata": {},
   "outputs": [
    {
     "name": "stdout",
     "output_type": "stream",
     "text": [
      "['voilet', 'indigo', 'green', 'blue']\n",
      "[9, 8, 7, 6, 5, 4, 3, 2, 2, 2, 1, 1]\n"
     ]
    }
   ],
   "source": [
    "colors = [\"voilet\", \"indigo\", \"blue\", \"green\"]\n",
    "colors.sort(reverse=True)\n",
    "print(colors)\n",
    "\n",
    "num = [4,2,5,3,6,1,2,1,2,8,9,7]\n",
    "num.sort(reverse=True)\n",
    "print(num)"
   ]
  },
  {
   "cell_type": "markdown",
   "id": "a2b5310f",
   "metadata": {},
   "source": [
    "## count()"
   ]
  },
  {
   "cell_type": "code",
   "execution_count": 4,
   "id": "4a3b9b2c",
   "metadata": {},
   "outputs": [
    {
     "name": "stdout",
     "output_type": "stream",
     "text": [
      "2\n"
     ]
    }
   ],
   "source": [
    "colors = [\"voilet\", \"green\", \"indigo\", \"blue\", \"green\"]\n",
    "print(colors.count(\"green\"))\n",
    "\n",
    "num = [4,2,5,3,6,1,2,1,3,2,8,9,7]"
   ]
  },
  {
   "cell_type": "markdown",
   "id": "3b5cbd35",
   "metadata": {},
   "source": [
    "## index()"
   ]
  },
  {
   "cell_type": "code",
   "execution_count": 5,
   "id": "bc541dcf",
   "metadata": {},
   "outputs": [
    {
     "name": "stdout",
     "output_type": "stream",
     "text": [
      "1\n",
      "3\n"
     ]
    }
   ],
   "source": [
    "colors = [\"voilet\", \"green\", \"indigo\", \"blue\", \"green\"]\n",
    "print(colors.index(\"green\"))\n",
    "\n",
    "num = [4,2,5,3,6,1,2,1,3,2,8,9,7]\n",
    "print(num.index(3))"
   ]
  },
  {
   "cell_type": "markdown",
   "id": "9c081d19",
   "metadata": {},
   "source": [
    "## copy()"
   ]
  },
  {
   "cell_type": "code",
   "execution_count": 6,
   "id": "fd5573a1",
   "metadata": {},
   "outputs": [
    {
     "name": "stdout",
     "output_type": "stream",
     "text": [
      "['voilet', 'green', 'indigo', 'blue']\n",
      "['voilet', 'green', 'indigo', 'blue']\n"
     ]
    }
   ],
   "source": [
    "colors = [\"voilet\", \"green\", \"indigo\", \"blue\"]\n",
    "newlist = colors.copy()\n",
    "print(colors)\n",
    "print(newlist)"
   ]
  },
  {
   "cell_type": "markdown",
   "id": "b3dd9e29",
   "metadata": {},
   "source": [
    "## append()"
   ]
  },
  {
   "cell_type": "code",
   "execution_count": 7,
   "id": "eb28b511",
   "metadata": {},
   "outputs": [
    {
     "name": "stdout",
     "output_type": "stream",
     "text": [
      "['voilet', 'indigo', 'blue', 'green']\n"
     ]
    }
   ],
   "source": [
    "colors = [\"voilet\", \"indigo\", \"blue\"]\n",
    "colors.append(\"green\")\n",
    "print(colors)"
   ]
  },
  {
   "cell_type": "markdown",
   "id": "32cf983e",
   "metadata": {},
   "source": [
    "## insert()"
   ]
  },
  {
   "cell_type": "code",
   "execution_count": 8,
   "id": "a37adc08",
   "metadata": {},
   "outputs": [
    {
     "name": "stdout",
     "output_type": "stream",
     "text": [
      "['voilet', 'green', 'indigo', 'blue']\n"
     ]
    }
   ],
   "source": [
    "colors = [\"voilet\", \"indigo\", \"blue\"]\n",
    "#           [0]        [1]      [2]\n",
    "\n",
    "colors.insert(1, \"green\")   #inserts item at index 1\n",
    "# updated list: colors = [\"voilet\", \"green\", \"indigo\", \"blue\"]\n",
    "#       indexs              [0]       [1]       [2]      [3]\n",
    "\n",
    "print(colors)"
   ]
  },
  {
   "cell_type": "markdown",
   "id": "07570945",
   "metadata": {},
   "source": [
    "## extend()"
   ]
  },
  {
   "cell_type": "markdown",
   "id": "ba8cf5e6",
   "metadata": {},
   "source": [
    "#add a list to a list\n",
    "colors = [\"voilet\", \"indigo\", \"blue\"]\n",
    "rainbow = [\"green\", \"yellow\", \"orange\", \"red\"]\n",
    "colors.extend(rainbow)\n",
    "print(colors)"
   ]
  },
  {
   "cell_type": "markdown",
   "id": "d84cc441",
   "metadata": {},
   "source": [
    "## Concatenating two lists:"
   ]
  },
  {
   "cell_type": "code",
   "execution_count": 10,
   "id": "3021cfc1",
   "metadata": {},
   "outputs": [
    {
     "name": "stdout",
     "output_type": "stream",
     "text": [
      "['voilet', 'indigo', 'blue', 'green', 'yellow', 'orange', 'red']\n"
     ]
    }
   ],
   "source": [
    "colors = [\"voilet\", \"indigo\", \"blue\", \"green\"]\n",
    "colors2 = [\"yellow\", \"orange\", \"red\"]\n",
    "print(colors + colors2)"
   ]
  },
  {
   "cell_type": "markdown",
   "id": "07886174",
   "metadata": {},
   "source": [
    "## Day- 24 Indroduction Tuple "
   ]
  },
  {
   "cell_type": "markdown",
   "id": "5868b2b5",
   "metadata": {},
   "source": [
    "## Python Tuples "
   ]
  },
  {
   "cell_type": "markdown",
   "id": "8833a9db",
   "metadata": {},
   "source": [
    "Tuples are ordered collection of data items. They store multiple items in a single variable. Tuple items are separated by commas and enclosed within round brackets (). Tuples are unchangeable meaning we can not alter them after creation."
   ]
  },
  {
   "cell_type": "code",
   "execution_count": 11,
   "id": "b3d902b1",
   "metadata": {},
   "outputs": [
    {
     "name": "stdout",
     "output_type": "stream",
     "text": [
      "(1, 2, 2, 3, 5, 4, 6)\n",
      "('Red', 'Green', 'Blue')\n"
     ]
    }
   ],
   "source": [
    "tuple1 = (1,2,2,3,5,4,6)\n",
    "tuple2 = (\"Red\", \"Green\", \"Blue\")\n",
    "print(tuple1)\n",
    "print(tuple2)"
   ]
  },
  {
   "cell_type": "code",
   "execution_count": 12,
   "id": "61d368a1",
   "metadata": {},
   "outputs": [
    {
     "name": "stdout",
     "output_type": "stream",
     "text": [
      "('Abhijeet', 18, 'FYBScIT', 9.8)\n"
     ]
    }
   ],
   "source": [
    "details = (\"Abhijeet\", 18, \"FYBScIT\", 9.8)\n",
    "print(details)"
   ]
  },
  {
   "cell_type": "markdown",
   "id": "c68a8ebc",
   "metadata": {},
   "source": [
    "## Tuples Indexes "
   ]
  },
  {
   "cell_type": "markdown",
   "id": "b955c329",
   "metadata": {},
   "source": [
    "Each item/element in a tuple has its own unique index. This index can be used to access any particular item from the tuple. The first item has index [0], second item has index [1], third item has index [2] and so on."
   ]
  },
  {
   "cell_type": "code",
   "execution_count": 13,
   "id": "5fee5f1a",
   "metadata": {},
   "outputs": [],
   "source": [
    "country = (\"Spain\", \"Italy\", \"India\",)\n",
    "#            [0]      [1]      [2]"
   ]
  },
  {
   "cell_type": "markdown",
   "id": "d60b4b04",
   "metadata": {},
   "source": [
    "## Accessing tuple items:\n",
    "## I. Positive Indexing:\n",
    "As we have seen that tuple items have index, as such we can access items using these indexes.\n",
    "\n",
    "Example:"
   ]
  },
  {
   "cell_type": "code",
   "execution_count": 14,
   "id": "0659ae62",
   "metadata": {},
   "outputs": [
    {
     "name": "stdout",
     "output_type": "stream",
     "text": [
      "Spain\n",
      "Italy\n",
      "India\n"
     ]
    }
   ],
   "source": [
    "country = (\"Spain\", \"Italy\", \"India\",)\n",
    "#            [0]      [1]      [2]     \n",
    "print(country[0])\n",
    "print(country[1])\n",
    "print(country[2])"
   ]
  },
  {
   "cell_type": "markdown",
   "id": "9ce3843c",
   "metadata": {},
   "source": [
    "## II. Negative Indexing:\n",
    "Similar to positive indexing, negative indexing is also used to access items, but from the end of the tuple. The last item has index [-1], second last item has index [-2], third last item has index [-3] and so on.\n",
    "\n",
    "Example:"
   ]
  },
  {
   "cell_type": "code",
   "execution_count": 15,
   "id": "8085b371",
   "metadata": {},
   "outputs": [
    {
     "name": "stdout",
     "output_type": "stream",
     "text": [
      "Germany\n",
      "India\n",
      "Italy\n"
     ]
    }
   ],
   "source": [
    "country = (\"Spain\", \"Italy\", \"India\", \"England\", \"Germany\")\n",
    "#            [0]      [1]      [2]       [3]        [4]\n",
    "print(country[-1]) # Similar to print(country[len(country) - 1])\n",
    "print(country[-3])\n",
    "print(country[-4])"
   ]
  },
  {
   "cell_type": "markdown",
   "id": "ba13e7ef",
   "metadata": {},
   "source": [
    "## III. Check for item:\n",
    "We can check if a given item is present in the tuple. This is done using the in keyword.\n",
    "\n",
    "Example 1:"
   ]
  },
  {
   "cell_type": "code",
   "execution_count": 16,
   "id": "d17f5dea",
   "metadata": {},
   "outputs": [
    {
     "name": "stdout",
     "output_type": "stream",
     "text": [
      "Germany is present.\n"
     ]
    }
   ],
   "source": [
    "country = (\"Spain\", \"Italy\", \"India\", \"England\", \"Germany\")\n",
    "if \"Germany\" in country:\n",
    "    print(\"Germany is present.\")\n",
    "else:\n",
    "    print(\"Germany is absent.\")"
   ]
  },
  {
   "cell_type": "code",
   "execution_count": 17,
   "id": "7f1d0508",
   "metadata": {},
   "outputs": [
    {
     "name": "stdout",
     "output_type": "stream",
     "text": [
      "Russia is absent.\n"
     ]
    }
   ],
   "source": [
    "country = (\"Spain\", \"Italy\", \"India\", \"England\", \"Germany\")\n",
    "if \"Russia\" in country:\n",
    "    print(\"Russia is present.\")\n",
    "else:\n",
    "    print(\"Russia is absent.\")"
   ]
  },
  {
   "cell_type": "markdown",
   "id": "8f08664e",
   "metadata": {},
   "source": [
    "## IV. Range of Index:\n",
    "You can print a range of tuple items by specifying where do you want to start, where do you want to end and if you want to skip elements in between the range.\n",
    "\n",
    "Syntax: Tuple[start : end : jumpIndex]"
   ]
  },
  {
   "cell_type": "code",
   "execution_count": 20,
   "id": "c803b5de",
   "metadata": {},
   "outputs": [
    {
     "name": "stdout",
     "output_type": "stream",
     "text": [
      "('India', 'England')\n"
     ]
    }
   ],
   "source": [
    "print(country[2 : 4 ])"
   ]
  },
  {
   "cell_type": "markdown",
   "id": "4e566554",
   "metadata": {},
   "source": [
    "Note: jump Index is optional. We will see this in given examples."
   ]
  },
  {
   "cell_type": "markdown",
   "id": "cdfb70cb",
   "metadata": {},
   "source": [
    "Example: Printing elements within a particular range:"
   ]
  },
  {
   "cell_type": "code",
   "execution_count": 21,
   "id": "5da30090",
   "metadata": {},
   "outputs": [
    {
     "name": "stdout",
     "output_type": "stream",
     "text": [
      "('mouse', 'pig', 'horse', 'donkey')\n",
      "('bat', 'mouse', 'pig', 'horse', 'donkey')\n"
     ]
    }
   ],
   "source": [
    "animals = (\"cat\", \"dog\", \"bat\", \"mouse\", \"pig\", \"horse\", \"donkey\", \"goat\", \"cow\")\n",
    "print(animals[3:7])     #using positive indexes\n",
    "print(animals[-7:-2])   #using negative indexes"
   ]
  },
  {
   "cell_type": "markdown",
   "id": "c7a6428e",
   "metadata": {},
   "source": [
    "Example: Printing all element from a given index till the end"
   ]
  },
  {
   "cell_type": "code",
   "execution_count": 22,
   "id": "b5d717de",
   "metadata": {},
   "outputs": [
    {
     "name": "stdout",
     "output_type": "stream",
     "text": [
      "('pig', 'horse', 'donkey', 'goat', 'cow')\n",
      "('horse', 'donkey', 'goat', 'cow')\n"
     ]
    }
   ],
   "source": [
    "animals = (\"cat\", \"dog\", \"bat\", \"mouse\", \"pig\", \"horse\", \"donkey\", \"goat\", \"cow\")\n",
    "print(animals[4:])      #using positive indexes\n",
    "print(animals[-4:])     #using negative indexes"
   ]
  },
  {
   "cell_type": "markdown",
   "id": "4d300eb6",
   "metadata": {},
   "source": [
    "Example: printing all elements from start to a given index"
   ]
  },
  {
   "cell_type": "code",
   "execution_count": 23,
   "id": "22483775",
   "metadata": {},
   "outputs": [
    {
     "name": "stdout",
     "output_type": "stream",
     "text": [
      "('cat', 'dog', 'bat', 'mouse', 'pig', 'horse')\n",
      "('cat', 'dog', 'bat', 'mouse', 'pig', 'horse')\n"
     ]
    }
   ],
   "source": [
    "animals = (\"cat\", \"dog\", \"bat\", \"mouse\", \"pig\", \"horse\", \"donkey\", \"goat\", \"cow\")\n",
    "print(animals[:6])      #using positive indexes\n",
    "print(animals[:-3])     #using negative indexes"
   ]
  },
  {
   "cell_type": "markdown",
   "id": "f3a33d8b",
   "metadata": {},
   "source": [
    "Example: Print alternate values"
   ]
  },
  {
   "cell_type": "code",
   "execution_count": 24,
   "id": "be696a69",
   "metadata": {},
   "outputs": [
    {
     "name": "stdout",
     "output_type": "stream",
     "text": [
      "('cat', 'bat', 'pig', 'donkey', 'cow')\n",
      "('dog', 'mouse', 'horse', 'goat')\n"
     ]
    }
   ],
   "source": [
    "animals = (\"cat\", \"dog\", \"bat\", \"mouse\", \"pig\", \"horse\", \"donkey\", \"goat\", \"cow\")\n",
    "print(animals[::2])     #using positive indexes\n",
    "print(animals[-8:-1:2]) #using negative indexes"
   ]
  },
  {
   "cell_type": "markdown",
   "id": "59138e71",
   "metadata": {},
   "source": [
    "Example: printing every 3rd consecutive withing given range"
   ]
  },
  {
   "cell_type": "code",
   "execution_count": 25,
   "id": "1f622c07",
   "metadata": {},
   "outputs": [
    {
     "name": "stdout",
     "output_type": "stream",
     "text": [
      "('dog', 'pig', 'goat')\n"
     ]
    }
   ],
   "source": [
    "animals = (\"cat\", \"dog\", \"bat\", \"mouse\", \"pig\", \"horse\", \"donkey\", \"goat\", \"cow\")\n",
    "print(animals[1:8:3])"
   ]
  },
  {
   "cell_type": "markdown",
   "id": "95fd674d",
   "metadata": {},
   "source": [
    "## Day - 25 Operation on Tuples "
   ]
  },
  {
   "cell_type": "markdown",
   "id": "94a79aa4",
   "metadata": {},
   "source": [
    "## Manipulating Tuples\n",
    "Tuples are immutable, hence if you want to add, remove or change tuple items, then first you must convert the tuple to a list. Then perform operation on that list and convert it back to tuple.\n",
    "\n",
    "Example:"
   ]
  },
  {
   "cell_type": "code",
   "execution_count": 26,
   "id": "8ce991ea",
   "metadata": {},
   "outputs": [
    {
     "name": "stdout",
     "output_type": "stream",
     "text": [
      "('Spain', 'Italy', 'Finland', 'Germany', 'Russia')\n"
     ]
    }
   ],
   "source": [
    "countries = (\"Spain\", \"Italy\", \"India\", \"England\", \"Germany\")\n",
    "temp = list(countries)\n",
    "temp.append(\"Russia\")       #add item \n",
    "temp.pop(3)                 #remove item\n",
    "temp[2] = \"Finland\"         #change item\n",
    "countries = tuple(temp)\n",
    "print(countries)"
   ]
  },
  {
   "cell_type": "markdown",
   "id": "9633d4ae",
   "metadata": {},
   "source": [
    "Thus, we convert the tuple to a list, manipulate items of the list using list methods, then convert list back to a tuple.\n",
    "\n",
    "However, we can directly concatenate two tuples without converting them to list.\n",
    "\n",
    "Example:"
   ]
  },
  {
   "cell_type": "code",
   "execution_count": null,
   "id": "951e619c",
   "metadata": {},
   "outputs": [],
   "source": []
  },
  {
   "cell_type": "code",
   "execution_count": 27,
   "id": "0e40e8c6",
   "metadata": {},
   "outputs": [
    {
     "name": "stdout",
     "output_type": "stream",
     "text": [
      "('Pakistan', 'Afghanistan', 'Bangladesh', 'ShriLanka', 'Vietnam', 'India', 'China')\n"
     ]
    }
   ],
   "source": [
    "countries = (\"Pakistan\", \"Afghanistan\", \"Bangladesh\", \"ShriLanka\")\n",
    "countries2 = (\"Vietnam\", \"India\", \"China\")\n",
    "southEastAsia = countries + countries2\n",
    "print(southEastAsia)"
   ]
  },
  {
   "cell_type": "markdown",
   "id": "71c70b88",
   "metadata": {},
   "source": [
    "## tuples methods"
   ]
  },
  {
   "cell_type": "markdown",
   "id": "a935f3d5",
   "metadata": {},
   "source": [
    "## count() methods"
   ]
  },
  {
   "cell_type": "code",
   "execution_count": 29,
   "id": "7058143e",
   "metadata": {},
   "outputs": [
    {
     "name": "stdout",
     "output_type": "stream",
     "text": [
      "Count of 3 in Tuple1 is: 3\n"
     ]
    }
   ],
   "source": [
    "Tuple1 = (0, 1, 2, 3, 2, 3, 1, 3, 2)\n",
    "res = Tuple1.count(3)\n",
    "print('Count of 3 in Tuple1 is:', res)"
   ]
  },
  {
   "cell_type": "markdown",
   "id": "1def65ae",
   "metadata": {},
   "source": [
    "## index() methods"
   ]
  },
  {
   "cell_type": "code",
   "execution_count": 30,
   "id": "c5dbef84",
   "metadata": {},
   "outputs": [
    {
     "name": "stdout",
     "output_type": "stream",
     "text": [
      "First occurrence of 3 is 3\n"
     ]
    }
   ],
   "source": [
    "Tuple = (0, 1, 2, 3, 2, 3, 1, 3, 2)\n",
    "res = Tuple.index(3)\n",
    "print('First occurrence of 3 is', res)"
   ]
  },
  {
   "cell_type": "markdown",
   "id": "3005cc36",
   "metadata": {},
   "source": [
    "## Day 28 - f string"
   ]
  },
  {
   "cell_type": "markdown",
   "id": "d3bd95c0",
   "metadata": {},
   "source": [
    "## String formatting in python\n",
    "String formatting can be done in python using the format method."
   ]
  },
  {
   "cell_type": "code",
   "execution_count": 33,
   "id": "38ee2f39",
   "metadata": {},
   "outputs": [
    {
     "name": "stdout",
     "output_type": "stream",
     "text": [
      "For only 49.0 dollars!\n"
     ]
    }
   ],
   "source": [
    "txt = \"For only {price:.1f} dollars!\"\n",
    "print(txt.format(price = 49))"
   ]
  },
  {
   "cell_type": "markdown",
   "id": "41259df2",
   "metadata": {},
   "source": [
    "## f-strings in python\n",
    "It is a new string formatting mechanism introduced by the PEP 498. It is also known as Literal String Interpolation or more commonly as F-strings (f character preceding the string literal). The primary focus of this mechanism is to make the interpolation easier.\n",
    "\n",
    "When we prefix the string with the letter 'f', the string becomes the f-string itself. The f-string can be formatted in much same as the str.format() method. The f-string offers a convenient way to embed Python expression inside string literals for formatting.\n",
    "\n",
    "## Example"
   ]
  },
  {
   "cell_type": "code",
   "execution_count": 34,
   "id": "af390869",
   "metadata": {},
   "outputs": [
    {
     "name": "stdout",
     "output_type": "stream",
     "text": [
      "GeeksforGeeks is a portal for Geeks.\n",
      "Hello, My name is Tushar and I'm 23 years old.\n"
     ]
    }
   ],
   "source": [
    "val = 'Geeks'  \n",
    "print(f\"{val}for{val} is a portal for {val}.\")  \n",
    "name = 'Tushar'  \n",
    "age = 23  \n",
    "print(f\"Hello, My name is {name} and I'm {age} years old.\")"
   ]
  },
  {
   "cell_type": "markdown",
   "id": "79ba7b3b",
   "metadata": {},
   "source": [
    "## Day 29 Docstrings"
   ]
  },
  {
   "cell_type": "markdown",
   "id": "c575e4a2",
   "metadata": {},
   "source": [
    "## Docstrings in python\n",
    "Python docstrings are the string literals that appear right after the definition of a function, method, class, or module.\n",
    "\n",
    "## Example"
   ]
  },
  {
   "cell_type": "code",
   "execution_count": 35,
   "id": "98daf124",
   "metadata": {},
   "outputs": [
    {
     "name": "stdout",
     "output_type": "stream",
     "text": [
      "25\n"
     ]
    }
   ],
   "source": [
    "def square(n):\n",
    "    '''Takes in a number n, returns the square of n'''\n",
    "    print(n**2)\n",
    "square(5)"
   ]
  },
  {
   "cell_type": "code",
   "execution_count": 37,
   "id": "cac7a306",
   "metadata": {},
   "outputs": [
    {
     "data": {
      "text/plain": [
       "11"
      ]
     },
     "execution_count": 37,
     "metadata": {},
     "output_type": "execute_result"
    }
   ],
   "source": [
    "def add(num1, num2):\n",
    "    \"\"\"\n",
    "    Add up two integer numbers.\n",
    "\n",
    "    This function simply wraps the ``+`` operator, and does not\n",
    "    do anything interesting, except for illustrating what\n",
    "    the docstring of a very simple function looks like.\n",
    "\n",
    "    Parameters\n",
    "    ----------\n",
    "    num1 : int\n",
    "        First number to add.\n",
    "    num2 : int\n",
    "        Second number to add.\n",
    "\n",
    "    Returns\n",
    "    -------\n",
    "    int\n",
    "        The sum of ``num1`` and ``num2``.\n",
    "\n",
    "    See Also\n",
    "    --------\n",
    "    subtract : Subtract one integer from another.\n",
    "\n",
    "    Examples\n",
    "    --------\n",
    "    >>> add(2, 2)\n",
    "    4\n",
    "    >>> add(25, 0)\n",
    "    25\n",
    "    >>> add(10, -10)\n",
    "    0\n",
    "    \"\"\"\n",
    "    return num1 + num2\n",
    "add(5,6)"
   ]
  },
  {
   "cell_type": "markdown",
   "id": "c211cfe2",
   "metadata": {},
   "source": [
    "## Python doc attribute\n",
    "Whenever string literals are present just after the definition of a function, module, class or method, they are associated with the object as their doc attribute. We can later use this attribute to retrieve this docstring.\n",
    "\n",
    "## Example"
   ]
  },
  {
   "cell_type": "code",
   "execution_count": 38,
   "id": "f2fc38d7",
   "metadata": {},
   "outputs": [
    {
     "name": "stdout",
     "output_type": "stream",
     "text": [
      "Takes in a number n, returns the square of n\n"
     ]
    }
   ],
   "source": [
    "def square(n):\n",
    "    '''Takes in a number n, returns the square of n'''\n",
    "    return n**2\n",
    "\n",
    "print(square.__doc__)"
   ]
  },
  {
   "cell_type": "markdown",
   "id": "07e0080d",
   "metadata": {},
   "source": [
    "## PEP 8\n",
    "PEP 8 is a document that provides guidelines and best practices on how to write Python code. It was written in 2001 by Guido van Rossum, Barry Warsaw, and Nick Coghlan. The primary focus of PEP 8 is to improve the readability and consistency of Python code.\n",
    "\n",
    "PEP stands for Python Enhancement Proposal, and there are several of them. A PEP is a document that describes new features proposed for Python and documents aspects of Python, like design and style, for the community.\n",
    "\n",
    "## The Zen of Python\n",
    "Long time Pythoneer Tim Peters succinctly channels the BDFL’s guiding principles for Python’s design into 20 aphorisms, only 19 of which have been written down."
   ]
  },
  {
   "cell_type": "code",
   "execution_count": 43,
   "id": "a3400de4",
   "metadata": {},
   "outputs": [
    {
     "name": "stdout",
     "output_type": "stream",
     "text": [
      "Explicit is better than implicit.\n",
      "Simple is better than complex.\n",
      "Complex is better than complicated.\n",
      "Flat is better than nested.\n",
      "Sparse is better than dense.\n",
      "Readability counts.\n",
      "Special cases aren't special enough to break the rules.\n",
      "Although practicality beats purity.\n",
      "Errors should never pass silently.\n",
      "Unless explicitly silenced.\n",
      "In the face of ambiguity, refuse the temptation to guess.\n",
      "There should be one-- and preferably only one --obvious way to do it.\n",
      "Although that way may not be obvious at first unless you're Dutch.\n",
      "Now is better than never.\n",
      "Although never is often better than *right* now.\n",
      "If the implementation is hard to explain, it's a bad idea.\n",
      "If the implementation is easy to explain, it may be a good idea.\n",
      "Namespaces are one honking great idea -- let's do more of those!\n"
     ]
    }
   ],
   "source": [
    "print('''Explicit is better than implicit.\n",
    "Simple is better than complex.\n",
    "Complex is better than complicated.\n",
    "Flat is better than nested.\n",
    "Sparse is better than dense.\n",
    "Readability counts.\n",
    "Special cases aren't special enough to break the rules.\n",
    "Although practicality beats purity.\n",
    "Errors should never pass silently.\n",
    "Unless explicitly silenced.\n",
    "In the face of ambiguity, refuse the temptation to guess.\n",
    "There should be one-- and preferably only one --obvious way to do it.\n",
    "Although that way may not be obvious at first unless you're Dutch.\n",
    "Now is better than never.\n",
    "Although never is often better than *right* now.\n",
    "If the implementation is hard to explain, it's a bad idea.\n",
    "If the implementation is easy to explain, it may be a good idea.\n",
    "Namespaces are one honking great idea -- let's do more of those!''')"
   ]
  },
  {
   "cell_type": "code",
   "execution_count": null,
   "id": "bccdfba3",
   "metadata": {},
   "outputs": [],
   "source": []
  },
  {
   "cell_type": "code",
   "execution_count": 39,
   "id": "e7c81b5d",
   "metadata": {},
   "outputs": [
    {
     "name": "stdout",
     "output_type": "stream",
     "text": [
      "The Zen of Python, by Tim Peters\n",
      "\n",
      "Beautiful is better than ugly.\n",
      "Explicit is better than implicit.\n",
      "Simple is better than complex.\n",
      "Complex is better than complicated.\n",
      "Flat is better than nested.\n",
      "Sparse is better than dense.\n",
      "Readability counts.\n",
      "Special cases aren't special enough to break the rules.\n",
      "Although practicality beats purity.\n",
      "Errors should never pass silently.\n",
      "Unless explicitly silenced.\n",
      "In the face of ambiguity, refuse the temptation to guess.\n",
      "There should be one-- and preferably only one --obvious way to do it.\n",
      "Although that way may not be obvious at first unless you're Dutch.\n",
      "Now is better than never.\n",
      "Although never is often better than *right* now.\n",
      "If the implementation is hard to explain, it's a bad idea.\n",
      "If the implementation is easy to explain, it may be a good idea.\n",
      "Namespaces are one honking great idea -- let's do more of those!\n"
     ]
    }
   ],
   "source": [
    "import this"
   ]
  },
  {
   "cell_type": "markdown",
   "id": "1f1053cd",
   "metadata": {},
   "source": [
    "## Day 30 Recursion "
   ]
  },
  {
   "cell_type": "markdown",
   "id": "7c8a2096",
   "metadata": {},
   "source": [
    "## Recursion in python\n",
    "Recursion is the process of defining something in terms of itself.\n",
    "\n",
    "## Python Recursive Function\n",
    "In Python, we know that a function can call other functions. It is even possible for the function to call itself. These types of construct are termed as recursive functions."
   ]
  },
  {
   "cell_type": "code",
   "execution_count": 44,
   "id": "24dd1e1a",
   "metadata": {},
   "outputs": [
    {
     "name": "stdout",
     "output_type": "stream",
     "text": [
      "Number:  7\n",
      "Factorial:  5040\n"
     ]
    }
   ],
   "source": [
    "def factorial(num): \n",
    "    if (num == 1 or num == 0):\n",
    "        return 1\n",
    "    else:\n",
    "        return (num * factorial(num - 1)) \n",
    "  \n",
    "# Driver Code \n",
    "num = 7; \n",
    "print(\"Number: \",num)\n",
    "print(\"Factorial: \",factorial(num))"
   ]
  },
  {
   "cell_type": "code",
   "execution_count": 45,
   "id": "577bfcc3",
   "metadata": {},
   "outputs": [
    {
     "name": "stdout",
     "output_type": "stream",
     "text": [
      "120\n"
     ]
    }
   ],
   "source": [
    "# factorial(7) = 7*6*5*4*3*2*1\n",
    "# factorial(6) = 6*5*4*3*2*1\n",
    "# factorial(5) = 5*4*3*2*1\n",
    "# factorial(4) = 4*3*2*1\n",
    "# factorial(0) = 1\n",
    "\n",
    "\n",
    "# factorial(n) = n * factorial(n-1)\n",
    "def factorial(n):\n",
    "  if (n == 0 or n == 1):\n",
    "    return 1\n",
    "  else:\n",
    "    return n * factorial(n - 1)\n",
    "\n",
    "\n",
    "print(factorial(5))\n",
    "# 5 * factorial(4)\n",
    "# 5 * 4 * factorial(3)\n",
    "# 5 * 4 * 3 * factorial(2)\n",
    "# 5 * 4 * 3 * 2 * factorial(1)\n",
    "# 5 * 4 * 3 * 2 * 1\n",
    "\n",
    "# Quick Quiz: Write a program to print the Fibonacci sequence\n",
    "# f(0) = 0\n",
    "# f(1) = 1\n",
    "# f(2) = f(1) + f(0)\n",
    "# f(n) = f(n-1) + f(n-2)\n",
    "\n",
    "# 0 1 1 2 3 5 8...."
   ]
  },
  {
   "cell_type": "markdown",
   "id": "a61ca9db",
   "metadata": {},
   "source": [
    "## Day 31 Sets"
   ]
  },
  {
   "cell_type": "markdown",
   "id": "8760ac77",
   "metadata": {},
   "source": [
    "## Python Sets\n",
    "Sets are unordered collection of data items. They store multiple items in a single variable. Set items are separated by commas and enclosed within curly brackets {}. Sets are unchangeable, meaning you cannot change items of the set once created. Sets do not contain duplicate items.\n",
    "\n",
    "## Example:"
   ]
  },
  {
   "cell_type": "code",
   "execution_count": 46,
   "id": "4f5de9e3",
   "metadata": {},
   "outputs": [
    {
     "name": "stdout",
     "output_type": "stream",
     "text": [
      "{False, 'Carla', 19, 5.9}\n"
     ]
    }
   ],
   "source": [
    "info = {\"Carla\", 19, False, 5.9, 19}\n",
    "print(info)"
   ]
  },
  {
   "cell_type": "markdown",
   "id": "700d32ea",
   "metadata": {},
   "source": [
    "## Accessing set items:\n",
    "## Using a For loop\n",
    "You can access items of set using a for loop.\n",
    "\n",
    "Example:"
   ]
  },
  {
   "cell_type": "code",
   "execution_count": null,
   "id": "0f2c4ce7",
   "metadata": {},
   "outputs": [],
   "source": []
  },
  {
   "cell_type": "code",
   "execution_count": 47,
   "id": "4d8a688d",
   "metadata": {},
   "outputs": [
    {
     "name": "stdout",
     "output_type": "stream",
     "text": [
      "False\n",
      "Carla\n",
      "19\n",
      "5.9\n"
     ]
    }
   ],
   "source": [
    "info = {\"Carla\", 19, False, 5.9}\n",
    "for item in info:\n",
    "    print(item)"
   ]
  },
  {
   "cell_type": "code",
   "execution_count": 50,
   "id": "b29e9fda",
   "metadata": {},
   "outputs": [
    {
     "data": {
      "text/plain": [
       "set"
      ]
     },
     "execution_count": 50,
     "metadata": {},
     "output_type": "execute_result"
    }
   ],
   "source": [
    "info = set()\n",
    "type(info)"
   ]
  },
  {
   "cell_type": "markdown",
   "id": "de22a54e",
   "metadata": {},
   "source": [
    "## Day 32 Sets Methods "
   ]
  },
  {
   "cell_type": "markdown",
   "id": "3608e949",
   "metadata": {},
   "source": [
    "## Joining Sets\n",
    "Sets in python more or less work in the same way as sets in mathematics. We can perform operations like union and intersection on the sets just like in mathematics.\n",
    "\n",
    "## I. union() and update():\n",
    "The union() and update() methods prints all items that are present in the two sets. The union() method returns a new set whereas update() method adds item into the existing set from another set.\n",
    "\n",
    "## Example:"
   ]
  },
  {
   "cell_type": "markdown",
   "id": "ae4625ce",
   "metadata": {},
   "source": [
    "##    Union()"
   ]
  },
  {
   "cell_type": "code",
   "execution_count": 52,
   "id": "469ce54c",
   "metadata": {},
   "outputs": [
    {
     "name": "stdout",
     "output_type": "stream",
     "text": [
      "{'Delhi', 'Tokyo', 'Kabul', 'Berlin', 'Seoul', 'Madrid'}\n"
     ]
    }
   ],
   "source": [
    "cities = {\"Tokyo\", \"Madrid\", \"Berlin\", \"Delhi\"}\n",
    "cities2 = {\"Tokyo\", \"Seoul\", \"Kabul\", \"Madrid\"}\n",
    "cities3 = cities.union(cities2)\n",
    "print(cities3)"
   ]
  },
  {
   "cell_type": "markdown",
   "id": "26730aa5",
   "metadata": {},
   "source": [
    "## update()"
   ]
  },
  {
   "cell_type": "code",
   "execution_count": 53,
   "id": "894db202",
   "metadata": {},
   "outputs": [
    {
     "name": "stdout",
     "output_type": "stream",
     "text": [
      "{'Delhi', 'Tokyo', 'Kabul', 'Berlin', 'Seoul', 'Madrid'}\n"
     ]
    }
   ],
   "source": [
    "cities = {\"Tokyo\", \"Madrid\", \"Berlin\", \"Delhi\"}\n",
    "cities2 = {\"Tokyo\", \"Seoul\", \"Kabul\", \"Madrid\"}\n",
    "cities.update(cities2)\n",
    "print(cities)"
   ]
  },
  {
   "cell_type": "markdown",
   "id": "01b46569",
   "metadata": {},
   "source": [
    " ## II. intersection and intersection_update():\n",
    "The intersection() and intersection_update() methods prints only items that are similar to both the sets. The intersection() method returns a new set whereas intersection_update() method updates into the existing set from another set.\n",
    "\n",
    "## Example:"
   ]
  },
  {
   "cell_type": "code",
   "execution_count": 54,
   "id": "4f8e7295",
   "metadata": {},
   "outputs": [
    {
     "name": "stdout",
     "output_type": "stream",
     "text": [
      "{'Tokyo', 'Madrid'}\n"
     ]
    }
   ],
   "source": [
    "cities = {\"Tokyo\", \"Madrid\", \"Berlin\", \"Delhi\"}\n",
    "cities2 = {\"Tokyo\", \"Seoul\", \"Kabul\", \"Madrid\"}\n",
    "cities3 = cities.intersection(cities2)\n",
    "print(cities3)"
   ]
  },
  {
   "cell_type": "code",
   "execution_count": 55,
   "id": "96f57cf9",
   "metadata": {},
   "outputs": [
    {
     "name": "stdout",
     "output_type": "stream",
     "text": [
      "{'Tokyo', 'Madrid'}\n"
     ]
    }
   ],
   "source": [
    "cities = {\"Tokyo\", \"Madrid\", \"Berlin\", \"Delhi\"}\n",
    "cities2 = {\"Tokyo\", \"Seoul\", \"Kabul\", \"Madrid\"}\n",
    "cities.intersection_update(cities2)\n",
    "print(cities)"
   ]
  },
  {
   "cell_type": "markdown",
   "id": "4a1bb1de",
   "metadata": {},
   "source": [
    "## III. symmetric_difference and symmetric_difference_update():\n",
    "The symmetric_difference() and symmetric_difference_update() methods prints only items that are not similar to both the sets. The symmetric_difference() method returns a new set whereas symmetric_difference_update() method updates into the existing set from another set.\n",
    "\n",
    "## Example:"
   ]
  },
  {
   "cell_type": "code",
   "execution_count": 56,
   "id": "103ecbf1",
   "metadata": {},
   "outputs": [
    {
     "name": "stdout",
     "output_type": "stream",
     "text": [
      "{'Delhi', 'Kabul', 'Berlin', 'Seoul'}\n"
     ]
    }
   ],
   "source": [
    "cities = {\"Tokyo\", \"Madrid\", \"Berlin\", \"Delhi\"}\n",
    "cities2 = {\"Tokyo\", \"Seoul\", \"Kabul\", \"Madrid\"}\n",
    "cities3 = cities.symmetric_difference(cities2)\n",
    "print(cities3)"
   ]
  },
  {
   "cell_type": "code",
   "execution_count": 57,
   "id": "e1d79889",
   "metadata": {},
   "outputs": [
    {
     "name": "stdout",
     "output_type": "stream",
     "text": [
      "{'Delhi', 'Kabul', 'Berlin', 'Seoul'}\n"
     ]
    }
   ],
   "source": [
    "cities = {\"Tokyo\", \"Madrid\", \"Berlin\", \"Delhi\"}\n",
    "cities2 = {\"Tokyo\", \"Seoul\", \"Kabul\", \"Madrid\"}\n",
    "cities.symmetric_difference_update(cities2)\n",
    "print(cities)"
   ]
  },
  {
   "cell_type": "markdown",
   "id": "9550e3b1",
   "metadata": {},
   "source": [
    "## IV. difference() and difference_update():\n",
    "The difference() and difference_update() methods prints only items that are only present in the original set and not in both the sets. The difference() method returns a new set whereas difference_update() method updates into the existing set from another set.\n",
    "\n",
    "## Example:"
   ]
  },
  {
   "cell_type": "code",
   "execution_count": 60,
   "id": "27ece1f0",
   "metadata": {},
   "outputs": [
    {
     "name": "stdout",
     "output_type": "stream",
     "text": [
      "{'Tokyo', 'Berlin', 'Madrid'}\n"
     ]
    }
   ],
   "source": [
    "cities = {\"Tokyo\", \"Madrid\", \"Berlin\", \"Delhi\"}\n",
    "cities2 = {\"Seoul\", \"Kabul\", \"Delhi\"}\n",
    "cities3 = cities.difference(cities2)\n",
    "print(cities3)"
   ]
  },
  {
   "cell_type": "code",
   "execution_count": 61,
   "id": "e1989028",
   "metadata": {},
   "outputs": [
    {
     "name": "stdout",
     "output_type": "stream",
     "text": [
      "{'Tokyo', 'Berlin', 'Madrid'}\n"
     ]
    }
   ],
   "source": [
    "cities = {\"Tokyo\", \"Madrid\", \"Berlin\", \"Delhi\"}\n",
    "cities2 = {\"Seoul\", \"Kabul\", \"Delhi\"}\n",
    "print(cities.difference(cities2))"
   ]
  },
  {
   "cell_type": "markdown",
   "id": "60628bb1",
   "metadata": {},
   "source": [
    "## isdisjoint():\n",
    "The isdisjoint() method checks if items of given set are present in another set. This method returns False if items are present, else it returns True.\n",
    "\n",
    "## Example:"
   ]
  },
  {
   "cell_type": "code",
   "execution_count": 67,
   "id": "ab7da426",
   "metadata": {},
   "outputs": [
    {
     "name": "stdout",
     "output_type": "stream",
     "text": [
      "True\n"
     ]
    }
   ],
   "source": [
    "cities = {\"Tokyo\", \"Madrid\", \"Berlin\", \"Delhi\"}\n",
    "cities2 = {\"To\", \"Seoul\", \"Kabul\", \"Madr\"}\n",
    "print(cities.isdisjoint(cities2))"
   ]
  },
  {
   "cell_type": "code",
   "execution_count": 68,
   "id": "f2290c9b",
   "metadata": {},
   "outputs": [
    {
     "name": "stdout",
     "output_type": "stream",
     "text": [
      "False\n"
     ]
    }
   ],
   "source": [
    "cities = {\"Tokyo\", \"Madrid\", \"Berlin\", \"Delhi\"}\n",
    "cities2 = {\"Tokyo\", \"Seoul\", \"Kabul\", \"Madrid\"}\n",
    "print(cities.isdisjoint(cities2))"
   ]
  },
  {
   "cell_type": "markdown",
   "id": "b25ddc92",
   "metadata": {},
   "source": [
    "## issuperset():\n",
    "The issuperset() method checks if all the items of a particular set are present in the original set. It returns True if all the items are present, else it returns False.\n",
    "\n",
    "## Example:"
   ]
  },
  {
   "cell_type": "code",
   "execution_count": 77,
   "id": "d368c446",
   "metadata": {},
   "outputs": [
    {
     "name": "stdout",
     "output_type": "stream",
     "text": [
      "False\n",
      "True\n"
     ]
    }
   ],
   "source": [
    "cities = {\"Tokyo\", \"Madrid\", \"Berlin\", \"Delhi\"}\n",
    "cities2 = {\"Seoul\", \"Kabul\"}\n",
    "print(cities.issuperset(cities2))\n",
    "cities3 = {\"Tokyo\", \"Madrid\",\"Delhi\"}\n",
    "print(cities.issuperset(cities3))"
   ]
  },
  {
   "cell_type": "markdown",
   "id": "3872e9a3",
   "metadata": {},
   "source": [
    "## issubset():\n",
    "The issubset() method checks if all the items of the original set are present in the particular set. It returns True if all the items are present, else it returns False.\n",
    "\n",
    "## Example:"
   ]
  },
  {
   "cell_type": "code",
   "execution_count": 73,
   "id": "2b47dcca",
   "metadata": {},
   "outputs": [
    {
     "name": "stdout",
     "output_type": "stream",
     "text": [
      "True\n"
     ]
    }
   ],
   "source": [
    "cities = {\"Tokyo\", \"Madrid\", \"Berlin\", \"Delhi\"}\n",
    "cities2 = {\"Delhi\", \"Madrid\"}\n",
    "print(cities2.issubset(cities))"
   ]
  },
  {
   "cell_type": "markdown",
   "id": "20df3dd8",
   "metadata": {},
   "source": [
    "## add()\n",
    "If you want to add a single item to the set use the add() method.\n",
    "\n",
    "## Example:"
   ]
  },
  {
   "cell_type": "code",
   "execution_count": 78,
   "id": "c0b93f0b",
   "metadata": {},
   "outputs": [
    {
     "name": "stdout",
     "output_type": "stream",
     "text": [
      "{'Delhi', 'Tokyo', 'Helsinki', 'Berlin', 'Madrid'}\n"
     ]
    }
   ],
   "source": [
    "cities = {\"Tokyo\", \"Madrid\", \"Berlin\", \"Delhi\"}\n",
    "cities.add(\"Helsinki\")\n",
    "print(cities)"
   ]
  },
  {
   "cell_type": "markdown",
   "id": "927f794e",
   "metadata": {},
   "source": [
    "## update()\n",
    "If you want to add more than one item, simply create another set or any other iterable object(list, tuple, dictionary), and use the update() method to add it into the existing set.\n",
    "\n",
    "## Example:"
   ]
  },
  {
   "cell_type": "code",
   "execution_count": 80,
   "id": "c14243cd",
   "metadata": {},
   "outputs": [
    {
     "name": "stdout",
     "output_type": "stream",
     "text": [
      "{'Delhi', 'Berlin', 'Helsinki', 'Tokyo', 'Seoul', 'Warsaw', 'Madrid'}\n"
     ]
    }
   ],
   "source": [
    "cities = {\"Tokyo\", \"Madrid\", \"Berlin\", \"Delhi\"}\n",
    "cities2 = {\"Helsinki\", \"Warsaw\", \"Seoul\"}\n",
    "cities.update(cities2)\n",
    "print(cities)"
   ]
  },
  {
   "cell_type": "markdown",
   "id": "085ad4d7",
   "metadata": {},
   "source": [
    "## remove()/discard()\n",
    "We can use remove() and discard() methods to remove items form list.\n",
    "\n",
    "Example :"
   ]
  },
  {
   "cell_type": "code",
   "execution_count": 81,
   "id": "66855501",
   "metadata": {},
   "outputs": [
    {
     "name": "stdout",
     "output_type": "stream",
     "text": [
      "{'Delhi', 'Berlin', 'Madrid'}\n"
     ]
    }
   ],
   "source": [
    "cities = {\"Tokyo\", \"Madrid\", \"Berlin\", \"Delhi\"}\n",
    "cities.remove(\"Tokyo\")\n",
    "print(cities)"
   ]
  },
  {
   "cell_type": "markdown",
   "id": "8c7b7707",
   "metadata": {},
   "source": [
    "The main difference between remove and discard is that, if we try to delete an item which is not present in set, then remove() raises an error, whereas discard() does not raise any error.\n",
    "\n",
    "Example:"
   ]
  },
  {
   "cell_type": "code",
   "execution_count": null,
   "id": "53a992c0",
   "metadata": {},
   "outputs": [],
   "source": []
  },
  {
   "cell_type": "code",
   "execution_count": 82,
   "id": "5445cff6",
   "metadata": {},
   "outputs": [
    {
     "name": "stdout",
     "output_type": "stream",
     "text": [
      "{'Tokyo', 'Delhi', 'Berlin', 'Madrid'}\n"
     ]
    }
   ],
   "source": [
    "cities = {\"Tokyo\", \"Madrid\", \"Berlin\", \"Delhi\"}\n",
    "cities.discard(\"Seoul\")\n",
    "print(cities)"
   ]
  },
  {
   "cell_type": "markdown",
   "id": "1466d3a9",
   "metadata": {},
   "source": [
    "## pop()\n",
    "This method removes the last item of the set but the catch is that we don’t know which item gets popped as sets are unordered. However, you can access the popped item if you assign the pop() method to a variable.\n",
    "\n",
    "## Example:"
   ]
  },
  {
   "cell_type": "code",
   "execution_count": 86,
   "id": "f62800e5",
   "metadata": {},
   "outputs": [
    {
     "name": "stdout",
     "output_type": "stream",
     "text": [
      "{'Delhi', 'Berlin', 'Madrid'}\n",
      "Tokyo\n"
     ]
    }
   ],
   "source": [
    "cities = {\"Tokyo\", \"Madrid\", \"Berlin\", \"Delhi\"}\n",
    "item = cities.pop()\n",
    "print(cities)\n",
    "print(item)"
   ]
  },
  {
   "cell_type": "markdown",
   "id": "92e98ee9",
   "metadata": {},
   "source": [
    "## del\n",
    "del is not a method, rather it is a keyword which deletes the set entirely.\n",
    "\n",
    "Example:"
   ]
  },
  {
   "cell_type": "code",
   "execution_count": 88,
   "id": "f83822d6",
   "metadata": {},
   "outputs": [
    {
     "name": "stdout",
     "output_type": "stream",
     "text": [
      "{'Tokyo', 'Delhi', 'Berlin', 'Madrid'}\n"
     ]
    }
   ],
   "source": [
    "cities = {\"Tokyo\", \"Madrid\", \"Berlin\", \"Delhi\"}\n",
    "del cities\n",
    "print(cities)"
   ]
  },
  {
   "cell_type": "markdown",
   "id": "44488d4d",
   "metadata": {},
   "source": [
    "## clear():\n",
    "This method clears all items in the set and prints an empty set.\n",
    "\n",
    "Example:"
   ]
  },
  {
   "cell_type": "code",
   "execution_count": 89,
   "id": "7f983dba",
   "metadata": {},
   "outputs": [
    {
     "name": "stdout",
     "output_type": "stream",
     "text": [
      "set()\n"
     ]
    }
   ],
   "source": [
    "cities = {\"Tokyo\", \"Madrid\", \"Berlin\", \"Delhi\"}\n",
    "cities.clear()\n",
    "print(cities)"
   ]
  },
  {
   "cell_type": "markdown",
   "id": "1f6319ff",
   "metadata": {},
   "source": [
    "## Check if item exists\n",
    "You can also check if an item exists in the set or not.\n",
    "\n",
    "Example"
   ]
  },
  {
   "cell_type": "code",
   "execution_count": 90,
   "id": "923adf76",
   "metadata": {},
   "outputs": [
    {
     "name": "stdout",
     "output_type": "stream",
     "text": [
      "Carla is present.\n"
     ]
    }
   ],
   "source": [
    "info = {\"Carla\", 19, False, 5.9}\n",
    "if \"Carla\" in info:\n",
    "    print(\"Carla is present.\")\n",
    "else:\n",
    "    print(\"Carla is absent.\")"
   ]
  },
  {
   "cell_type": "markdown",
   "id": "d20e926e",
   "metadata": {},
   "source": [
    "## Day 33 Dictionary"
   ]
  },
  {
   "cell_type": "markdown",
   "id": "904b315e",
   "metadata": {},
   "source": [
    "## Python Dictionaries\n",
    "Dictionaries are ordered collection of data items. They store multiple items in a single variable. Dictionary items are key-value pairs that are separated by commas and enclosed within curly brackets {}.\n",
    "\n",
    "Example:"
   ]
  },
  {
   "cell_type": "code",
   "execution_count": 91,
   "id": "3ead6bc7",
   "metadata": {},
   "outputs": [
    {
     "name": "stdout",
     "output_type": "stream",
     "text": [
      "{'name': 'Karan', 'age': 19, 'eligible': True}\n"
     ]
    }
   ],
   "source": [
    "info = {'name':'Karan', 'age':19, 'eligible':True}\n",
    "print(info)"
   ]
  },
  {
   "cell_type": "markdown",
   "id": "eab5e0b9",
   "metadata": {},
   "source": [
    "## Accessing Dictionary items:\n",
    "## I. Accessing single values:\n",
    "Values in a dictionary can be accessed using keys. We can access dictionary values by mentioning keys either in square brackets or by using get method.\n",
    "\n",
    "Example:"
   ]
  },
  {
   "cell_type": "code",
   "execution_count": 92,
   "id": "a590e478",
   "metadata": {},
   "outputs": [
    {
     "name": "stdout",
     "output_type": "stream",
     "text": [
      "Karan\n",
      "True\n"
     ]
    }
   ],
   "source": [
    "info = {'name':'Karan', 'age':19, 'eligible':True}\n",
    "print(info['name'])\n",
    "print(info.get('eligible'))"
   ]
  },
  {
   "cell_type": "markdown",
   "id": "db8676b7",
   "metadata": {},
   "source": [
    "## II. Accessing multiple values:\n",
    "We can print all the values in the dictionary using values() method.\n",
    "\n",
    "Example:"
   ]
  },
  {
   "cell_type": "code",
   "execution_count": 93,
   "id": "dfafee11",
   "metadata": {},
   "outputs": [
    {
     "name": "stdout",
     "output_type": "stream",
     "text": [
      "dict_values(['Karan', 19, True])\n"
     ]
    }
   ],
   "source": [
    "info = {'name':'Karan', 'age':19, 'eligible':True}\n",
    "print(info.values())"
   ]
  },
  {
   "cell_type": "markdown",
   "id": "e4e3c12f",
   "metadata": {},
   "source": [
    "## III. Accessing keys:\n",
    "We can print all the keys in the dictionary using keys() method.\n",
    "\n",
    "Example:"
   ]
  },
  {
   "cell_type": "code",
   "execution_count": 94,
   "id": "9eb31bd9",
   "metadata": {},
   "outputs": [
    {
     "name": "stdout",
     "output_type": "stream",
     "text": [
      "dict_keys(['name', 'age', 'eligible'])\n"
     ]
    }
   ],
   "source": [
    "info = {'name':'Karan', 'age':19, 'eligible':True}\n",
    "print(info.keys())"
   ]
  },
  {
   "cell_type": "markdown",
   "id": "d0663554",
   "metadata": {},
   "source": [
    "## IV. Accessing key-value pairs:\n",
    "We can print all the key-value pairs in the dictionary using items() method.\n",
    "\n",
    "Example:"
   ]
  },
  {
   "cell_type": "code",
   "execution_count": 96,
   "id": "41dfce74",
   "metadata": {},
   "outputs": [
    {
     "name": "stdout",
     "output_type": "stream",
     "text": [
      "dict_items([('name', 'Karan'), ('age', 19), ('eligible', True)])\n"
     ]
    }
   ],
   "source": [
    "info = {'name':'Karan', 'age':19, 'eligible':True}\n",
    "print(info.items())"
   ]
  },
  {
   "cell_type": "markdown",
   "id": "680a9429",
   "metadata": {},
   "source": [
    "## Day 34 - Dictionary Methods"
   ]
  },
  {
   "cell_type": "markdown",
   "id": "4742d684",
   "metadata": {},
   "source": [
    "## update()\n",
    "The update() method updates the value of the key provided to it if the item already exists in the dictionary, else it creates a new key-value pair.\n",
    "\n",
    "## Example:"
   ]
  },
  {
   "cell_type": "code",
   "execution_count": 97,
   "id": "8c93042e",
   "metadata": {},
   "outputs": [
    {
     "name": "stdout",
     "output_type": "stream",
     "text": [
      "{'name': 'Karan', 'age': 19, 'eligible': True}\n",
      "{'name': 'Karan', 'age': 20, 'eligible': True, 'DOB': 2001}\n"
     ]
    }
   ],
   "source": [
    "info = {'name':'Karan', 'age':19, 'eligible':True}\n",
    "print(info)\n",
    "info.update({'age':20})\n",
    "info.update({'DOB':2001})\n",
    "print(info)"
   ]
  },
  {
   "cell_type": "markdown",
   "id": "cfc9a18f",
   "metadata": {},
   "source": [
    "## Removing items from dictionary:\n",
    "There are a few methods that we can use to remove items from dictionary.\n",
    "\n",
    "## clear():\n",
    "The clear() method removes all the items from the list.\n",
    "\n",
    "## Example:"
   ]
  },
  {
   "cell_type": "code",
   "execution_count": 98,
   "id": "b9a283b1",
   "metadata": {},
   "outputs": [
    {
     "name": "stdout",
     "output_type": "stream",
     "text": [
      "{}\n"
     ]
    }
   ],
   "source": [
    "info = {'name':'Karan', 'age':19, 'eligible':True}\n",
    "info.clear()\n",
    "print(info)"
   ]
  },
  {
   "cell_type": "markdown",
   "id": "ac19e96a",
   "metadata": {},
   "source": [
    "## pop():\n",
    "The pop() method removes the key-value pair whose key is passed as a parameter.\n",
    "\n",
    "## Example:"
   ]
  },
  {
   "cell_type": "code",
   "execution_count": 99,
   "id": "120fd212",
   "metadata": {},
   "outputs": [
    {
     "name": "stdout",
     "output_type": "stream",
     "text": [
      "{'name': 'Karan', 'age': 19}\n"
     ]
    }
   ],
   "source": [
    "info = {'name':'Karan', 'age':19, 'eligible':True}\n",
    "info.pop('eligible')\n",
    "print(info)"
   ]
  },
  {
   "cell_type": "code",
   "execution_count": 104,
   "id": "b0a80262",
   "metadata": {},
   "outputs": [],
   "source": [
    "## Change key value using pop() function"
   ]
  },
  {
   "cell_type": "code",
   "execution_count": 111,
   "id": "3c80bba2",
   "metadata": {},
   "outputs": [
    {
     "name": "stdout",
     "output_type": "stream",
     "text": [
      "{'name': 'Karan', 'age': 19, 'pass': True}\n"
     ]
    }
   ],
   "source": [
    "info = {'name':'Karan', 'age':19, 'eligible':True}\n",
    "# info.pop('eligible')\n",
    "# print(info)\n",
    "info['pass'] = info.pop('eligible')\n",
    "print(info)\n"
   ]
  },
  {
   "cell_type": "code",
   "execution_count": null,
   "id": "a2f6c6cb",
   "metadata": {},
   "outputs": [],
   "source": []
  },
  {
   "cell_type": "markdown",
   "id": "b9b9b8d7",
   "metadata": {},
   "source": [
    "## popitem():\n",
    "The popitem() method removes the last key-value pair from the dictionary.\n",
    "\n",
    "Example:"
   ]
  },
  {
   "cell_type": "code",
   "execution_count": 100,
   "id": "795a1e83",
   "metadata": {},
   "outputs": [
    {
     "name": "stdout",
     "output_type": "stream",
     "text": [
      "{'name': 'Karan', 'age': 19, 'eligible': True}\n"
     ]
    }
   ],
   "source": [
    "info = {'name':'Karan', 'age':19, 'eligible':True, 'DOB':2003}\n",
    "info.popitem()\n",
    "print(info)"
   ]
  },
  {
   "cell_type": "markdown",
   "id": "5c573d15",
   "metadata": {},
   "source": [
    "## del:\n",
    "we can also use the del keyword to remove a dictionary item.\n",
    "\n",
    "If key is not provided, then the del keyword will delete the dictionary entirely.\n",
    "\n",
    "Example:\n",
    "Example:"
   ]
  },
  {
   "cell_type": "code",
   "execution_count": 112,
   "id": "6aa3e418",
   "metadata": {},
   "outputs": [
    {
     "name": "stdout",
     "output_type": "stream",
     "text": [
      "{'name': 'Karan', 'eligible': True, 'DOB': 2003}\n"
     ]
    }
   ],
   "source": [
    "info = {'name':'Karan', 'age':19, 'eligible':True, 'DOB':2003}\n",
    "del info['age']\n",
    "print(info)"
   ]
  },
  {
   "cell_type": "code",
   "execution_count": null,
   "id": "98005b40",
   "metadata": {},
   "outputs": [],
   "source": []
  },
  {
   "cell_type": "code",
   "execution_count": 103,
   "id": "d25035c7",
   "metadata": {},
   "outputs": [
    {
     "name": "stdout",
     "output_type": "stream",
     "text": [
      "{'name': 'Karan', 'age': 19, 'eligible': True, 'DOB': 2003}\n"
     ]
    }
   ],
   "source": [
    "info = {'name':'Karan', 'age':19, 'eligible':True, 'DOB':2003}\n",
    "del info\n",
    "print(info)"
   ]
  },
  {
   "cell_type": "markdown",
   "id": "311dbb5e",
   "metadata": {},
   "source": [
    "## Day 35 for loop with else "
   ]
  },
  {
   "cell_type": "markdown",
   "id": "475d3d37",
   "metadata": {},
   "source": [
    "## Python - else in Loop\n",
    "As you have learned before, the else clause is used along with the if statement.\n",
    "\n",
    "Python allows the else keyword to be used with the for and while loops too. The else block appears after the body of the loop. The statements in the else block will be executed after all iterations are completed. The program exits the loop only after the else block is executed."
   ]
  },
  {
   "cell_type": "code",
   "execution_count": 113,
   "id": "9732afe2",
   "metadata": {},
   "outputs": [
    {
     "name": "stdout",
     "output_type": "stream",
     "text": [
      "iteration no 1 in for loop\n",
      "iteration no 2 in for loop\n",
      "iteration no 3 in for loop\n",
      "iteration no 4 in for loop\n",
      "iteration no 5 in for loop\n",
      "else block in loop\n",
      "Out of loop\n"
     ]
    }
   ],
   "source": [
    "for x in range(5):\n",
    "    print (\"iteration no {} in for loop\".format(x+1))\n",
    "else:\n",
    "    print (\"else block in loop\")\n",
    "print (\"Out of loop\")"
   ]
  },
  {
   "cell_type": "code",
   "execution_count": 119,
   "id": "2cc38f40",
   "metadata": {},
   "outputs": [
    {
     "name": "stdout",
     "output_type": "stream",
     "text": [
      "0\n",
      "1\n",
      "2\n",
      "3\n"
     ]
    }
   ],
   "source": [
    "i = 0\n",
    "while i<7:\n",
    "  print(i)\n",
    "  i = i + 1\n",
    "  if i == 4:\n",
    "         break\n",
    "\n",
    "else:\n",
    "  print(\"Sorry no i\")\n",
    "\n",
    "# for x in range(5):\n",
    "#     print (\"iteration no {} in for loop\".format(x+1))\n",
    "# else:\n",
    "#     print (\"else block in loop\")\n",
    "# print (\"Out of loop\")"
   ]
  },
  {
   "cell_type": "markdown",
   "id": "78b0a7fa",
   "metadata": {},
   "source": [
    "## Day 36 Exception Handling "
   ]
  },
  {
   "cell_type": "markdown",
   "id": "69fb18c3",
   "metadata": {},
   "source": [
    "## Exception Handling\n",
    "Exception handling is the process of responding to unwanted or unexpected events when a computer program runs. Exception handling deals with these events to avoid the program or system crashing, and without this process, exceptions would disrupt the normal operation of a program.\n",
    "\n",
    "## Exceptions in Python\n",
    "Python has many built-in exceptions that are raised when your program encounters an error (something in the program goes wrong).\n",
    "\n",
    "When these exceptions occur, the Python interpreter stops the current process and passes it to the calling process until it is handled. If not handled, the program will crash.\n",
    "\n",
    "## Python try...except\n",
    "try….. except blocks are used in python to handle errors and exceptions. The code in try block runs when there is no error. If the try block catches the error, then the except block is executed.\n",
    "\n",
    "## Syntax:"
   ]
  },
  {
   "cell_type": "code",
   "execution_count": 121,
   "id": "ff0b3f45",
   "metadata": {},
   "outputs": [],
   "source": [
    "try:\n",
    "    pass\n",
    "     #statements which could generate \n",
    "     #exception\n",
    "except:\n",
    "    pass\n",
    "     #Soloution of generated exception"
   ]
  },
  {
   "cell_type": "code",
   "execution_count": 122,
   "id": "5f0dcf61",
   "metadata": {},
   "outputs": [
    {
     "name": "stdout",
     "output_type": "stream",
     "text": [
      "Enter an integer: panak\n",
      "Number entered is not an integer.\n"
     ]
    }
   ],
   "source": [
    "try:\n",
    "    num = int(input(\"Enter an integer: \"))\n",
    "except ValueError:\n",
    "    print(\"Number entered is not an integer.\")"
   ]
  },
  {
   "cell_type": "markdown",
   "id": "978ecf0d",
   "metadata": {},
   "source": [
    "## Day 37 Finally Keyword"
   ]
  },
  {
   "cell_type": "markdown",
   "id": "fdcb8c9f",
   "metadata": {},
   "source": [
    "## Finally Clause\n",
    "The finally code block is also a part of exception handling. When we handle exception using the try and except block, we can include a finally block at the end. The finally block is always executed, so it is generally used for doing the concluding tasks like closing file resources or closing database connection or may be ending the program execution with a delightful message.\n",
    "\n",
    "## Syntax:"
   ]
  },
  {
   "cell_type": "code",
   "execution_count": 123,
   "id": "8ff94c41",
   "metadata": {},
   "outputs": [],
   "source": [
    "try:\n",
    "   #statements which could generate \n",
    "   #exception\n",
    "    pass\n",
    "except:\n",
    "    pass\n",
    "   #solution of generated exception\n",
    "finally:\n",
    "    pass\n",
    "    #block of code which is going to \n",
    "    #execute in any situation"
   ]
  },
  {
   "cell_type": "markdown",
   "id": "22113240",
   "metadata": {},
   "source": [
    "The finally block is executed irrespective of the outcome of try……except…..else blocks\n",
    "One of the important use cases of finally block is in a function which returns a value.\n",
    "\n",
    "## Example:"
   ]
  },
  {
   "cell_type": "code",
   "execution_count": 125,
   "id": "5ab438c4",
   "metadata": {},
   "outputs": [
    {
     "name": "stdout",
     "output_type": "stream",
     "text": [
      "Enter an integer: 9898\n",
      "Integer Accepted.\n",
      "This block is always executed.\n"
     ]
    }
   ],
   "source": [
    "try:\n",
    "    num = int(input(\"Enter an integer: \"))\n",
    "except ValueError:\n",
    "    print(\"Number entered is not an integer.\")\n",
    "else:\n",
    "    print(\"Integer Accepted.\")\n",
    "finally:\n",
    "    print(\"This block is always executed.\")"
   ]
  },
  {
   "cell_type": "code",
   "execution_count": 127,
   "id": "f48ff3f8",
   "metadata": {},
   "outputs": [
    {
     "name": "stdout",
     "output_type": "stream",
     "text": [
      "Enter the index: 2\n",
      "6\n",
      "I am always executed\n",
      "1\n"
     ]
    }
   ],
   "source": [
    "def func1():\n",
    "  try:\n",
    "    l = [1, 5, 6, 7]\n",
    "    i = int(input(\"Enter the index: \"))\n",
    "    print(l[i])\n",
    "    return 1\n",
    "  except:\n",
    "    print(\"Some error occurred\")\n",
    "    return 0\n",
    "\n",
    "  finally:\n",
    "    print(\"I am always executed\")\n",
    "  # print(\"I am always executed\")\n",
    "\n",
    "\n",
    "x = func1()\n",
    "print(x)"
   ]
  },
  {
   "cell_type": "markdown",
   "id": "4a692a13",
   "metadata": {},
   "source": [
    "## Day 38 Custom Errors"
   ]
  },
  {
   "cell_type": "markdown",
   "id": "9b4f7ae6",
   "metadata": {},
   "source": [
    "## Raising Custom errors\n",
    "In python, we can raise custom errors by using the raise keyword."
   ]
  },
  {
   "cell_type": "code",
   "execution_count": 131,
   "id": "56c004cf",
   "metadata": {},
   "outputs": [
    {
     "name": "stdout",
     "output_type": "stream",
     "text": [
      "Enter salary amount: 1000\n"
     ]
    },
    {
     "ename": "ValueError",
     "evalue": "Not a valid salary",
     "output_type": "error",
     "traceback": [
      "\u001b[1;31m---------------------------------------------------------------------------\u001b[0m",
      "\u001b[1;31mValueError\u001b[0m                                Traceback (most recent call last)",
      "Cell \u001b[1;32mIn [131], line 3\u001b[0m\n\u001b[0;32m      1\u001b[0m salary \u001b[38;5;241m=\u001b[39m \u001b[38;5;28mint\u001b[39m(\u001b[38;5;28minput\u001b[39m(\u001b[38;5;124m\"\u001b[39m\u001b[38;5;124mEnter salary amount: \u001b[39m\u001b[38;5;124m\"\u001b[39m))\n\u001b[0;32m      2\u001b[0m \u001b[38;5;28;01mif\u001b[39;00m \u001b[38;5;129;01mnot\u001b[39;00m \u001b[38;5;241m2000\u001b[39m \u001b[38;5;241m<\u001b[39m salary \u001b[38;5;241m<\u001b[39m \u001b[38;5;241m5000\u001b[39m:\n\u001b[1;32m----> 3\u001b[0m     \u001b[38;5;28;01mraise\u001b[39;00m \u001b[38;5;167;01mValueError\u001b[39;00m(\u001b[38;5;124m\"\u001b[39m\u001b[38;5;124mNot a valid salary\u001b[39m\u001b[38;5;124m\"\u001b[39m)\n",
      "\u001b[1;31mValueError\u001b[0m: Not a valid salary"
     ]
    }
   ],
   "source": [
    "salary = int(input(\"Enter salary amount: \"))\n",
    "if not 2000 < salary < 5000:\n",
    "    raise ValueError(\"Not a valid salary\")"
   ]
  },
  {
   "cell_type": "code",
   "execution_count": 134,
   "id": "4fbe29d8",
   "metadata": {},
   "outputs": [
    {
     "name": "stdout",
     "output_type": "stream",
     "text": [
      "Enter any value between 5 and 910\n"
     ]
    },
    {
     "ename": "ValueError",
     "evalue": "Value should be between 5 and 9",
     "output_type": "error",
     "traceback": [
      "\u001b[1;31m---------------------------------------------------------------------------\u001b[0m",
      "\u001b[1;31mValueError\u001b[0m                                Traceback (most recent call last)",
      "Cell \u001b[1;32mIn [134], line 4\u001b[0m\n\u001b[0;32m      1\u001b[0m a \u001b[38;5;241m=\u001b[39m \u001b[38;5;28mint\u001b[39m(\u001b[38;5;28minput\u001b[39m(\u001b[38;5;124m\"\u001b[39m\u001b[38;5;124mEnter any value between 5 and 9\u001b[39m\u001b[38;5;124m\"\u001b[39m))\n\u001b[0;32m      3\u001b[0m \u001b[38;5;28;01mif\u001b[39;00m(a\u001b[38;5;241m<\u001b[39m\u001b[38;5;241m5\u001b[39m  \u001b[38;5;129;01mor\u001b[39;00m a\u001b[38;5;241m>\u001b[39m\u001b[38;5;241m9\u001b[39m):\n\u001b[1;32m----> 4\u001b[0m   \u001b[38;5;28;01mraise\u001b[39;00m  \u001b[38;5;167;01mValueError\u001b[39;00m(\u001b[38;5;124m\"\u001b[39m\u001b[38;5;124mValue should be between 5 and 9\u001b[39m\u001b[38;5;124m\"\u001b[39m)\n",
      "\u001b[1;31mValueError\u001b[0m: Value should be between 5 and 9"
     ]
    }
   ],
   "source": [
    "a = int(input(\"Enter any value between 5 and 9\"))\n",
    "\n",
    "if(a<5  or a>9):\n",
    "  raise  ValueError(\"Value should be between 5 and 9\")"
   ]
  },
  {
   "cell_type": "markdown",
   "id": "c2bdcaea",
   "metadata": {},
   "source": [
    "## Defining Custom Exceptions\n",
    "In Python, we can define custom exceptions by creating a new class that is derived from the built-in Exception class.\n",
    "\n",
    "Here's the syntax to define custom exceptions:"
   ]
  },
  {
   "cell_type": "code",
   "execution_count": 135,
   "id": "8c105c5d",
   "metadata": {},
   "outputs": [
    {
     "ename": "IndentationError",
     "evalue": "expected an indented block after 'try' statement on line 5 (1142668304.py, line 8)",
     "output_type": "error",
     "traceback": [
      "\u001b[1;36m  Cell \u001b[1;32mIn [135], line 8\u001b[1;36m\u001b[0m\n\u001b[1;33m    except CustomError:\u001b[0m\n\u001b[1;37m    ^\u001b[0m\n\u001b[1;31mIndentationError\u001b[0m\u001b[1;31m:\u001b[0m expected an indented block after 'try' statement on line 5\n"
     ]
    }
   ],
   "source": [
    "class CustomError(Exception):\n",
    "  # code ...\n",
    "  pass\n",
    "\n",
    "try:\n",
    "  # code ...\n",
    "\n",
    "except CustomError:\n",
    "  # code..."
   ]
  },
  {
   "cell_type": "code",
   "execution_count": null,
   "id": "5dd1dd9a",
   "metadata": {},
   "outputs": [],
   "source": []
  },
  {
   "cell_type": "code",
   "execution_count": null,
   "id": "57319280",
   "metadata": {},
   "outputs": [],
   "source": []
  },
  {
   "cell_type": "code",
   "execution_count": null,
   "id": "0c64198d",
   "metadata": {},
   "outputs": [],
   "source": []
  },
  {
   "cell_type": "code",
   "execution_count": null,
   "id": "01c2ed52",
   "metadata": {},
   "outputs": [],
   "source": []
  },
  {
   "cell_type": "code",
   "execution_count": null,
   "id": "07fb9e7b",
   "metadata": {},
   "outputs": [],
   "source": []
  },
  {
   "cell_type": "code",
   "execution_count": null,
   "id": "70e41320",
   "metadata": {},
   "outputs": [],
   "source": []
  },
  {
   "cell_type": "code",
   "execution_count": null,
   "id": "a6f1d3dd",
   "metadata": {},
   "outputs": [],
   "source": []
  },
  {
   "cell_type": "code",
   "execution_count": null,
   "id": "54ac0799",
   "metadata": {},
   "outputs": [],
   "source": []
  }
 ],
 "metadata": {
  "kernelspec": {
   "display_name": "Python 3 (ipykernel)",
   "language": "python",
   "name": "python3"
  },
  "language_info": {
   "codemirror_mode": {
    "name": "ipython",
    "version": 3
   },
   "file_extension": ".py",
   "mimetype": "text/x-python",
   "name": "python",
   "nbconvert_exporter": "python",
   "pygments_lexer": "ipython3",
   "version": "3.11.3"
  }
 },
 "nbformat": 4,
 "nbformat_minor": 5
}
